{
 "cells": [
  {
   "cell_type": "code",
   "execution_count": 1,
   "id": "b6dab76c",
   "metadata": {
    "scrolled": true
   },
   "outputs": [
    {
     "name": "stdout",
     "output_type": "stream",
     "text": [
      "welcome to my computer quiz!!!\n",
      "do you watn to play? 5\n",
      "5\n",
      "Okay! Let's play :\n",
      "what does CPU stand for?5\n",
      "Incorrect!\n",
      "what does GPU stand for?4\n",
      "Incorrect!\n",
      "what does RAM stand for?4\n",
      "Incorrect!\n",
      "what does PSU stand for?4\n",
      "Incorrect!\n"
     ]
    }
   ],
   "source": [
    "\"\"\"\n",
    "#########################\n",
    "\n",
    "Our aim is to reveal the success percentage of the results given.\n",
    "\n",
    "#########################\n",
    "\n",
    "\"\"\"\n",
    "\n",
    "\n",
    "print(\"welcome to my computer quiz!!!\")\n",
    "\n",
    "playing = input(\"do you watn to play? \")\n",
    "\n",
    "print(playing)\n",
    "\n",
    "if playing.lower() != \"yes\":\n",
    "    \n",
    "    quit()\n",
    "    \n",
    "print(\"Okay! Let's play :\")\n",
    "\n",
    "score = 0\n",
    "\n",
    "answer = input(\"what does CPU stand for?\")\n",
    "\n",
    "if answer.lower()  == \"central processing unit\":\n",
    "     score += 1\n",
    "    print('Correct! your Score :', score)\n",
    "    \n",
    "    \n",
    "else:\n",
    "    \n",
    "    print(\"Incorrect!\")\n",
    "    \n",
    "answer2 = input(\"what does GPU stand for?\")\n",
    "    \n",
    "if answer2.lower() == \"graphics processing unit\":\n",
    "    \n",
    "    print('Correct! your Score :', score)\n",
    "    \n",
    "else:\n",
    "    \n",
    "    print(\"Incorrect!\")\n",
    "    \n",
    "answer3 = input(\"what does RAM stand for?\")\n",
    "    \n",
    "if answer3.lower() == \"random access memory\":\n",
    "    \n",
    "    print('Correct! your Score :', score)\n",
    "    \n",
    "else:\n",
    "    \n",
    "    print(\"Incorrect!\")\n",
    "\n",
    "answer3 = input(\"what does PSU stand for?\")\n",
    "    \n",
    "if answer3.lower() == \"power suply\":\n",
    "    \n",
    "    print('Correct! your Score :', score)\n",
    "    \n",
    "else:\n",
    "    \n",
    "    print(\"Incorrect!\")\n",
    "\n",
    "\n",
    "    \n",
    "print(\"You got\" + str(score) + \" questions correct! \")\n",
    "\n",
    "print (\"You got\" + str((score/4)*100) + \"%.   \" )"
   ]
  },
  {
   "cell_type": "code",
   "execution_count": null,
   "id": "92c4f03b",
   "metadata": {},
   "outputs": [],
   "source": []
  },
  {
   "cell_type": "code",
   "execution_count": null,
   "id": "f6502b18",
   "metadata": {},
   "outputs": [],
   "source": []
  }
 ],
 "metadata": {
  "kernelspec": {
   "display_name": "Python 3 (ipykernel)",
   "language": "python",
   "name": "python3"
  },
  "language_info": {
   "codemirror_mode": {
    "name": "ipython",
    "version": 3
   },
   "file_extension": ".py",
   "mimetype": "text/x-python",
   "name": "python",
   "nbconvert_exporter": "python",
   "pygments_lexer": "ipython3",
   "version": "3.11.5"
  }
 },
 "nbformat": 4,
 "nbformat_minor": 5
}
