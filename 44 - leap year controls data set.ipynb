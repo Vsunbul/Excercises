{
 "cells": [
  {
   "cell_type": "code",
   "execution_count": null,
   "id": "55eba03f",
   "metadata": {},
   "outputs": [],
   "source": []
  },
  {
   "cell_type": "code",
   "execution_count": 28,
   "id": "05e84b6e",
   "metadata": {},
   "outputs": [
    {
     "name": "stdout",
     "output_type": "stream",
     "text": [
      "1900 ->OK\n",
      "2000 ->OK\n",
      "2016 ->OK\n",
      "1987 ->OK\n"
     ]
    }
   ],
   "source": [
    "def leap_year(year:int)-> str:\n",
    "    \n",
    "   \"\"\"\n",
    "   This function checks if a year is a leap year.\n",
    "   input: year -> int\n",
    "   output: boolean -> T/F   \n",
    "   \"\"\" \n",
    "   if year % 100 == 0:\n",
    "        if year % 400 == 0:\n",
    "            return True\n",
    "        \n",
    "        else:\n",
    "            return False\n",
    "    \n",
    "   elif year % 4 == 0 :\n",
    "        return True\n",
    "        \n",
    "   else:\n",
    "        return False\n",
    "    \n",
    "test_data = [1900, 2000, 2016, 1987]\n",
    "test_results = [False, True, True, False]\n",
    "\n",
    "for i in range(len(test_data)):\n",
    "    yr = test_data[i]\n",
    "    print(yr,\"->\",end=\"\")\n",
    "    result = leap_year(yr)\n",
    "    \n",
    "    if result == test_results[i]:\n",
    "        print(\"OK\")\n",
    "        \n",
    "    else:\n",
    "        print(\"your code Wrong!!\")\n"
   ]
  },
  {
   "cell_type": "code",
   "execution_count": null,
   "id": "c413df50",
   "metadata": {},
   "outputs": [],
   "source": []
  }
 ],
 "metadata": {
  "kernelspec": {
   "display_name": "Python 3 (ipykernel)",
   "language": "python",
   "name": "python3"
  },
  "language_info": {
   "codemirror_mode": {
    "name": "ipython",
    "version": 3
   },
   "file_extension": ".py",
   "mimetype": "text/x-python",
   "name": "python",
   "nbconvert_exporter": "python",
   "pygments_lexer": "ipython3",
   "version": "3.11.5"
  }
 },
 "nbformat": 4,
 "nbformat_minor": 5
}
