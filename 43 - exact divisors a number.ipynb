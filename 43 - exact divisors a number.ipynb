{
 "cells": [
  {
   "cell_type": "code",
   "execution_count": 11,
   "id": "a8609fb0",
   "metadata": {},
   "outputs": [
    {
     "name": "stdout",
     "output_type": "stream",
     "text": [
      "Please enter ana number:15\n",
      "exact divisors of the 15 : [3, 5]\n"
     ]
    }
   ],
   "source": [
    "\n",
    "\n",
    "def divisors(number):\n",
    "    \n",
    "    \"\"\"\n",
    "    This fonction finds exact divisors of the number.\n",
    "    \n",
    "    input: number -> integer\n",
    "    output: divisors_list -> list[integer]\n",
    "    \n",
    "    \"\"\"\n",
    "    \n",
    "    divisors_list = []\n",
    "    i = 1\n",
    "    while i < number:\n",
    "        i += 1\n",
    "        if number % i == 0:\n",
    "            if number == i:\n",
    "                continue\n",
    "            divisors_list.append(i)\n",
    "    print(f\"exact divisors of the {number} :\", divisors_list)\n",
    "\n",
    "number = input(\"Please enter a number:\")\n",
    "\n",
    "if number.isdigit() != True:\n",
    "    print(\"please enter a number\")\n",
    "\n",
    "else:\n",
    "    number = int(number)\n",
    "    divisors(number)\n",
    "        "
   ]
  },
  {
   "cell_type": "code",
   "execution_count": null,
   "id": "3bb5f1c0",
   "metadata": {},
   "outputs": [],
   "source": []
  }
 ],
 "metadata": {
  "kernelspec": {
   "display_name": "Python 3 (ipykernel)",
   "language": "python",
   "name": "python3"
  },
  "language_info": {
   "codemirror_mode": {
    "name": "ipython",
    "version": 3
   },
   "file_extension": ".py",
   "mimetype": "text/x-python",
   "name": "python",
   "nbconvert_exporter": "python",
   "pygments_lexer": "ipython3",
   "version": "3.11.5"
  }
 },
 "nbformat": 4,
 "nbformat_minor": 5
}
