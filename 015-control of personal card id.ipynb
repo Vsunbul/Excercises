{
 "cells": [
  {
   "cell_type": "code",
   "execution_count": null,
   "id": "c4ce8155",
   "metadata": {},
   "outputs": [],
   "source": [
    "print(\"\"\"\n",
    "\n",
    "\n",
    "Target: This program is controlling personal card id number entered by the users.\n",
    "\n",
    "---------------------------------------------------------------------------------------\n",
    "- It has 11 digits.\n",
    "- Each digit contains a numerical value.\n",
    "- The first digit cannot be 0.\n",
    "- When the sum of the 2nd, 4th, 6th and 8th digits is subtracted from 7 times the sum of\n",
    "  the 1st, 3rd, 5th, 7th and 9th digits, the remainder divided by 10, that is,\n",
    "  Mod10, gives us the 10th digit.\n",
    "- The remainder obtained from the sum of the \n",
    "  1st, 2nd, 3rd, 4th, 5th, 6th, 7th, 8th, 9th and 10th digits divided by 10,\n",
    "  that is, Mod10, gives us the 11th digit.\n",
    "\n",
    "---------------------------------------------------------------------------------------\n",
    "\n",
    "\n",
    "\"\"\")"
   ]
  },
  {
   "cell_type": "code",
   "execution_count": 9,
   "id": "0639257d",
   "metadata": {},
   "outputs": [
    {
     "name": "stdout",
     "output_type": "stream",
     "text": [
      "Please enter 11 digit numbers: 11111111110\n",
      "1 0\n",
      "Entered personal id card number is True!!!\n",
      " 11111111110\n"
     ]
    }
   ],
   "source": [
    "id_number = input(\"Please enter 11 digit numbers: \")\n",
    "\n",
    "# we're controllling length of the entered number.\n",
    "if len(id_number) != 11:\n",
    "    print(\"incorrect number entry!!!\")\n",
    "    \n",
    "# we're controlling digit length of the entered number.   \n",
    "elif id_number.isdigit() == False:\n",
    "    print(\"entered personal id number is not digit!! \")\n",
    "    \n",
    "# and we're controlling whether presonal card id number of correct.\n",
    "else:\n",
    "    id_number_list = list(map(int,id_number))\n",
    "    \n",
    "    test_number10 = (sum(id_number_list[0:10:2]) * 7 - sum(id_number_list[1:9:2])) % 10\n",
    "    test_number11 = (sum(id_number_list[0:10])) % 10\n",
    "    \n",
    "    print(test_number10,test_number11)\n",
    "    \n",
    "    if id_number_list[9] == test_number10 and id_number_list[10] == test_number11:\n",
    "        print(\"Entered personal id card number is True!!!\\n\", id_number)\n",
    "    \n",
    "    else:\n",
    "        print(\"Entered personal id card number is False!!!\\n\", id_number)"
   ]
  },
  {
   "cell_type": "code",
   "execution_count": null,
   "id": "61d6bf0c",
   "metadata": {},
   "outputs": [],
   "source": []
  },
  {
   "cell_type": "code",
   "execution_count": null,
   "id": "06f15934",
   "metadata": {},
   "outputs": [],
   "source": []
  },
  {
   "cell_type": "code",
   "execution_count": null,
   "id": "8d7f72b3",
   "metadata": {},
   "outputs": [],
   "source": []
  }
 ],
 "metadata": {
  "kernelspec": {
   "display_name": "Python 3 (ipykernel)",
   "language": "python",
   "name": "python3"
  },
  "language_info": {
   "codemirror_mode": {
    "name": "ipython",
    "version": 3
   },
   "file_extension": ".py",
   "mimetype": "text/x-python",
   "name": "python",
   "nbconvert_exporter": "python",
   "pygments_lexer": "ipython3",
   "version": "3.11.5"
  }
 },
 "nbformat": 4,
 "nbformat_minor": 5
}
