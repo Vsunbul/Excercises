{
 "cells": [
  {
   "cell_type": "code",
   "execution_count": 69,
   "id": "a393ce41",
   "metadata": {
    "scrolled": true
   },
   "outputs": [
    {
     "name": "stdout",
     "output_type": "stream",
     "text": [
      "enter  value of block :100\n",
      "high of blocks : 13\n",
      "remaining block : 9.0\n"
     ]
    }
   ],
   "source": [
    "\n",
    "print(\"\"\"\n",
    "\n",
    "Task:\n",
    "\n",
    "We have \"n\" number of wooden blocks We build pyramids with these.\n",
    "\n",
    "The pyramid is stacked according to a simple principle: \n",
    "Each lower layer contains one more block than the upper layer.\n",
    "\n",
    "Your task is to calculate the height of the pyramid based \n",
    "on the number of blocks in your hand.\n",
    "\n",
    "Note: Height is measured by the number of fully completed layers; \n",
    "If there are not enough blocks and cannot complete the next layer,\n",
    "the block remains.\n",
    "\n",
    "\n",
    "\"\"\")\n",
    "\n",
    "\n",
    "def arithmetic_sum(i:int) -> float:\n",
    "    \"\"\"\n",
    "    \n",
    "    This function performs arithmetic addition. \n",
    "    sum = n * (n + 1) / 2\n",
    "    \n",
    "    input : integer \"i\"\n",
    "    output : float\n",
    "    \n",
    "    \"\"\"\n",
    "    return i * (i+1) / 2\n",
    "\n",
    "blocks = input(\"enter  value of block :\")\n",
    "blocks = int(blocks)\n",
    "\n",
    "\n",
    "while True:\n",
    "   \n",
    "    for i in range(1000):\n",
    "       \n",
    "        if arithmetic_sum(i) <= blocks  < arithmetic_sum(i + 1):\n",
    "            print (\"High of blocks :\", i)\n",
    "            print(\"Remaining block :\", abs(blocks - arithmetic_sum(i)))\n",
    "    \n",
    "    break"
   ]
  },
  {
   "cell_type": "code",
   "execution_count": null,
   "id": "7b8e368e",
   "metadata": {},
   "outputs": [],
   "source": [
    "(block-2) * \" \",ıı"
   ]
  },
  {
   "cell_type": "code",
   "execution_count": null,
   "id": "8fd4b909",
   "metadata": {},
   "outputs": [],
   "source": []
  }
 ],
 "metadata": {
  "kernelspec": {
   "display_name": "Python 3 (ipykernel)",
   "language": "python",
   "name": "python3"
  },
  "language_info": {
   "codemirror_mode": {
    "name": "ipython",
    "version": 3
   },
   "file_extension": ".py",
   "mimetype": "text/x-python",
   "name": "python",
   "nbconvert_exporter": "python",
   "pygments_lexer": "ipython3",
   "version": "3.11.5"
  }
 },
 "nbformat": 4,
 "nbformat_minor": 5
}
