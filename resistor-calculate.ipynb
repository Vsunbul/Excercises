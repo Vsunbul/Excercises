{
 "cells": [
  {
   "cell_type": "code",
   "execution_count": 21,
   "id": "08c5c630",
   "metadata": {},
   "outputs": [
    {
     "name": "stdout",
     "output_type": "stream",
     "text": [
      "<<DEFINITIONS>>\n",
      "\n",
      "-->Alternating Current (AC) is a type of electrical current, \n",
      "in which the direction of the \n",
      "flow of electrons switches back and forth \n",
      "at regular intervals or cycles.\n",
      "\n",
      "-->Frequencet is the rate at which something occurs over a \n",
      "particular period of time or in a given sample.\n",
      "\n",
      "-->Impedance is resistance the current of a circuit\n",
      "operating with alternating current\n",
      ".\n",
      "-->Capasitor is a two-terminal electrical device that can \n",
      "store energy in the form of an electric charge\n",
      "\n",
      "Capasitor fomula: Xc=1/2*f*(pi)*C\n",
      "f=frequence, pi=3.14, C=fahrad\n",
      "\n",
      "-->Electrical coil is an electrical conductor that contains \n",
      "a series of conductive wires wrapped around a \n",
      "ferromagnetic core that is cylindrical, toroidal, or disk-like.L=henry\n",
      "\n",
      " Electrical coil formula: Xl=2*(Pi)*f*L\n",
      "f=frequence, pi=3.14,L=Henry\n",
      "\n",
      " Resistor is a device having resistance to the passage of an electric current.\n",
      "Resistor=Ohm(R)\n",
      "\n",
      "Impedence Formula=((Xl-Xc)**2+R**2))**0.5 \n"
     ]
    }
   ],
   "source": [
    "\n",
    "print(\"\"\" Resistor Calculate.\\n Alternating current powered RLC circuit impedance calculation using \\\"Python\\\".\"\"\")\n",
    "print(\"<<DEFINITIONS>>\\n\")\n",
    "\n",
    "print(\"\"\"-->Alternating Current (AC) is a type of electrical current, \n",
    "in which the direction of the \n",
    "flow of electrons switches back and forth \n",
    "at regular intervals or cycles.\\n\"\"\")\n",
    "\n",
    "print(\"\"\"-->Frequencet is the rate at which something occurs over a \n",
    "particular period of time or in a given sample.\\n\"\"\")\n",
    "\n",
    "print(\"\"\"-->Impedance is resistance the current of a circuit\n",
    "operating with alternating current\\n.\"\"\")\n",
    "\n",
    "print(\"\"\"-->Capasitor is a two-terminal electrical device that can \n",
    "store energy in the form of an electric charge\\n\"\"\")\n",
    "\n",
    "print(\"\"\"Capasitor fomula: Xc=1/2*f*(pi)*C\n",
    "f=frequence, pi=3.14, C=fahrad\\n\"\"\")\n",
    "\n",
    "print(\"\"\"-->Electrical coil is an electrical conductor that contains \n",
    "a series of conductive wires wrapped around a \n",
    "ferromagnetic core that is cylindrical, toroidal, or disk-like.L=henry\\n\"\"\")\n",
    "\n",
    "print(\"\"\" Electrical coil formula: Xl=2*(Pi)*f*L\n",
    "f=frequence, pi=3.14,L=Henry\\n\"\"\")\n",
    "print(\"\"\" Resistor is a device having resistance to the passage of an electric current.\n",
    "Resistor=Ohm(R)\\n\"\"\")\n",
    "\n",
    "print(\"\"\"Impedence Formula=((Xl-Xc)**2+R**2))**0.5 \"\"\")\n"
   ]
  },
  {
   "cell_type": "code",
   "execution_count": 31,
   "id": "3da01b03",
   "metadata": {},
   "outputs": [
    {
     "name": "stdout",
     "output_type": "stream",
     "text": [
      "please enter frequence number: 100\n",
      "please enter capasitor number: 200\n",
      "calculated fahrad resistance (Xc): 7.961783439490445e-06\n",
      "please enter henry number: 200\n",
      "calculated henry resistance (Xl) 125600.0\n",
      "please enter resistance value :100\n"
     ]
    }
   ],
   "source": [
    "#calculating Capasitor fomula Xc: Xc=1/2*f*(pi)*C\n",
    "#f=frequence, pi=3.14, C=fahrad\n",
    "\n",
    "\n",
    "frequence= int(input(\"please enter frequence number: \"))\n",
    "pi_number = 3.14\n",
    "c_fahrad = int(input(\"please enter capasitor number: \"))\n",
    "calculated_fahrad = 1/(2 * frequence * pi_number * c_fahrad)\n",
    "print(\"calculated fahrad resistance (Xc):\", calculated_fahrad )\n",
    "\n",
    "#Electrical coil formula(Xl): Xl=2*(Pi)*f*L\n",
    "#f=frequence, pi=3.14,L=Henry\\n\n",
    "\n",
    "l_henry=int(input(\"please enter henry number: \"))\n",
    "calculated_henry=2*pi_number*frequence*l_henry\n",
    "print(\"calculated henry resistance (Xl)\",calculated_henry)\n",
    "\n",
    "ohm=int(input(\"please enter resistance value :\"))\n",
    "\n",
    "#Impedence Formula=((Xl-Xc)**2+R**2))**0.5\n",
    "calculated_impedence=((calculated_henry-calculated_fahrad)**2+ohm**2)**0.5\n",
    "print(\"calculated impedence value :\",calculated_impedence)\n"
   ]
  }
 ],
 "metadata": {
  "kernelspec": {
   "display_name": "Python 3 (ipykernel)",
   "language": "python",
   "name": "python3"
  },
  "language_info": {
   "codemirror_mode": {
    "name": "ipython",
    "version": 3
   },
   "file_extension": ".py",
   "mimetype": "text/x-python",
   "name": "python",
   "nbconvert_exporter": "python",
   "pygments_lexer": "ipython3",
   "version": "3.11.5"
  }
 },
 "nbformat": 4,
 "nbformat_minor": 5
}
