{
 "cells": [
  {
   "cell_type": "code",
   "execution_count": 66,
   "id": "ed3a084f",
   "metadata": {},
   "outputs": [
    {
     "name": "stdout",
     "output_type": "stream",
     "text": [
      "None\n"
     ]
    }
   ],
   "source": []
  },
  {
   "cell_type": "code",
   "execution_count": 7,
   "id": "0c9a6c09",
   "metadata": {},
   "outputs": [
    {
     "name": "stdout",
     "output_type": "stream",
     "text": [
      "\n",
      "      \n",
      "----------------------------------------------------------------------------------------\n",
      "Target: This program generates a random credit card application using the Luhn algorithm.      \n",
      "      \n",
      "----------------------------------------------------------------------------------------\n",
      "1.The card number has 16 digits.\n",
      "2.Let's assume the last digit is X\n",
      "3.Let's multiply every second digit by 2, starting from x\n",
      "4.If we get a two-digit number, let's add the digits of this number.\n",
      "5.Let's add the x numbers obtained and all other numbers.\n",
      "6.We need to divide the resulting number exactly by 10. \n",
      "The missing number is our control number. \n",
      "That is, it is the last digit of our card number.\n",
      "------------------------------------------------------------------------------------------\n",
      "    \n",
      "Generated Luhn numbers:\n",
      " 2 0 1 0 0 2 4 5 8 2 4 8 1 6 4 4\n"
     ]
    }
   ],
   "source": [
    "\n",
    "\n",
    "import random \n",
    "\n",
    "\n",
    "print(\"\"\"\n",
    "      \n",
    "----------------------------------------------------------------------------------------\n",
    "Target: This program generates a random credit card application using the Luhn algorithm.      \n",
    "      \n",
    "----------------------------------------------------------------------------------------\n",
    "1.The card number has 16 digits.\n",
    "2.Let's assume the last digit is X\n",
    "3.Let's multiply every second digit by 2, starting from x\n",
    "4.If we get a two-digit number, let's add the digits of this number.\n",
    "5.Let's add the x numbers obtained and all other numbers.\n",
    "6.We need to divide the resulting number exactly by 10. \n",
    "The missing number is our control number. \n",
    "That is, it is the last digit of our card number.\n",
    "------------------------------------------------------------------------------------------\n",
    "    \"\"\")\n",
    "\n",
    "X_multiple_numbers = []\n",
    "\n",
    "luhn_number_list = []\n",
    "\n",
    "#generating a list that has 15 digits.\n",
    "#The 16th digit is our test number\n",
    "\n",
    "for  i in range(15):\n",
    "    number = random.randint(0,9)\n",
    "    luhn_number_list.append(number)\n",
    "\n",
    "# divide the list into X and Y numbers.\n",
    "X_numbers = luhn_number_list[0:15:2]\n",
    "Y_numbers = luhn_number_list[1:14:2]\n",
    "\n",
    "\n",
    "for i in X_numbers:\n",
    "    # multiply the x numbers by 2\n",
    "    operated_number = i * 2\n",
    "    \n",
    "    # find the sum of the digits of x numbers\n",
    "    if operated_number >= 10:\n",
    "        X_multiple_numbers.append((operated_number % 10) + 1)\n",
    "    else:\n",
    "        X_multiple_numbers.append(operated_number)\n",
    "\n",
    "# add all operated numbers.\n",
    "X_sum_numbers = sum(X_multiple_numbers)    \n",
    "Y_sum_numbers = sum(Y_numbers)\n",
    "\n",
    "#finding the control number\n",
    "Luhn_test_number = 10 - (( X_sum_numbers + Y_sum_numbers ) % 10)\n",
    "\n",
    "#add our test number to our card number\n",
    "luhn_number_list.append(Luhn_test_number)\n",
    "print(\"Generated Luhn numbers:\\n\",*luhn_number_list)"
   ]
  },
  {
   "cell_type": "code",
   "execution_count": null,
   "id": "710a9ce4",
   "metadata": {},
   "outputs": [],
   "source": []
  },
  {
   "cell_type": "code",
   "execution_count": null,
   "id": "485880e3",
   "metadata": {},
   "outputs": [],
   "source": []
  },
  {
   "cell_type": "code",
   "execution_count": null,
   "id": "3f71bb2a",
   "metadata": {},
   "outputs": [],
   "source": []
  },
  {
   "cell_type": "code",
   "execution_count": null,
   "id": "bfc62d58",
   "metadata": {},
   "outputs": [],
   "source": []
  },
  {
   "cell_type": "code",
   "execution_count": null,
   "id": "55357995",
   "metadata": {},
   "outputs": [],
   "source": []
  },
  {
   "cell_type": "code",
   "execution_count": null,
   "id": "3ce1ab32",
   "metadata": {},
   "outputs": [],
   "source": []
  }
 ],
 "metadata": {
  "kernelspec": {
   "display_name": "Python 3 (ipykernel)",
   "language": "python",
   "name": "python3"
  },
  "language_info": {
   "codemirror_mode": {
    "name": "ipython",
    "version": 3
   },
   "file_extension": ".py",
   "mimetype": "text/x-python",
   "name": "python",
   "nbconvert_exporter": "python",
   "pygments_lexer": "ipython3",
   "version": "3.11.5"
  }
 },
 "nbformat": 4,
 "nbformat_minor": 5
}
