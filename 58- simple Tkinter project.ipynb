{
 "cells": [
  {
   "cell_type": "code",
   "execution_count": 29,
   "id": "e8300b8e",
   "metadata": {},
   "outputs": [
    {
     "name": "stdout",
     "output_type": "stream",
     "text": [
      "change 0 number\n"
     ]
    }
   ],
   "source": [
    "\n",
    "import tkinter as tk \n",
    "def get_number():\n",
    "    num1 = number1.get()\n",
    "    num2 = number2.get()\n",
    "    if num1.isdigit() and num2.isdigit():\n",
    "        return float(num1), float(num2)\n",
    "    \n",
    "def summary():\n",
    "    num1, num2 = get_number()\n",
    "    result = num1 + num2\n",
    "    consclusion.configure(text = str(result))\n",
    "    \n",
    "def substract():\n",
    "    num1, num2 = get_number()\n",
    "    result = num1 - num2\n",
    "    consclusion.configure(text = str(result))\n",
    "    \n",
    "def divide():\n",
    "    try:\n",
    "        num1, num2 = get_number()\n",
    "        result = num1 / num2\n",
    "        consclusion.configure(text = str(result))\n",
    "        \n",
    "    except ZeroDivisionError:\n",
    "        print(\"change 0 number\")\n",
    "    \n",
    "def multiple():\n",
    "    num1, num2 = get_number()\n",
    "    result = num1 * num2\n",
    "    consclusion.configure(text = str(result))\n",
    "    \n",
    "\n",
    "\n",
    "window = tk.Tk()\n",
    "window.title(\"calculator\")\n",
    "window_heignt = window.winfo_screenheight() // 2 - 160\n",
    "window_width = window.winfo_screenwidth() // 2 - 160\n",
    "window.geometry(\"320x320+{}+{}\".format(window_width, window_heignt))\n",
    "\n",
    "consclusion = tk.Label(window, text = \"result\", font = \"Arial 16 bold\",\n",
    "                       width = 30, justify = \"center\")\n",
    "consclusion.place(x = -50, y = 20)\n",
    "number1 = tk.Entry(window, font = \"Arial 14 bold\", width = 15, justify = \"right\")\n",
    "number1.place(x = 70, y = 50)\n",
    "\n",
    "number2 = tk.Entry(window, font = \"Arial 14 bold\", width = 15, justify = \"right\")\n",
    "number2.place(x = 70, y = 80)\n",
    "\n",
    "push1 = tk.Button(window, text = \"+\", font = \"Arial 14 bold\",\n",
    "                  width = 10, command = summary)\n",
    "push1.place(x = 90, y = 110)\n",
    "\n",
    "push2 = tk.Button(window, text = \"-\", font = \"Arial 14 bold\",\n",
    "                  width = 10, command = substract)\n",
    "push2.place(x = 90, y = 140)\n",
    "\n",
    "push3 = tk.Button(window, text = \"*\", font = \"Arial 14 bold\",\n",
    "                  width = 10, command = multiple)\n",
    "push3.place(x = 90, y = 170)\n",
    "\n",
    "push4 = tk.Button(window, text = \"/\", font = \"Arial 14 bold\",\n",
    "                  width = 10, command = divide)\n",
    "push4.place(x = 90, y = 200)\n",
    "\n",
    "number1.focus()\n",
    "window.mainloop()\n"
   ]
  },
  {
   "cell_type": "code",
   "execution_count": null,
   "id": "8e7facca",
   "metadata": {},
   "outputs": [],
   "source": []
  }
 ],
 "metadata": {
  "kernelspec": {
   "display_name": "Python 3 (ipykernel)",
   "language": "python",
   "name": "python3"
  },
  "language_info": {
   "codemirror_mode": {
    "name": "ipython",
    "version": 3
   },
   "file_extension": ".py",
   "mimetype": "text/x-python",
   "name": "python",
   "nbconvert_exporter": "python",
   "pygments_lexer": "ipython3",
   "version": "3.11.5"
  }
 },
 "nbformat": 4,
 "nbformat_minor": 5
}
