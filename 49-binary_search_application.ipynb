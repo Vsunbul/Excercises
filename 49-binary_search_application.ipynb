{
 "cells": [
  {
   "cell_type": "markdown",
   "id": "64e31e0d",
   "metadata": {},
   "source": [
    "## Binary Search Application"
   ]
  },
  {
   "cell_type": "code",
   "execution_count": 81,
   "id": "e6790e4e",
   "metadata": {},
   "outputs": [
    {
     "name": "stdout",
     "output_type": "stream",
     "text": [
      "we found number. Index of the number : 699\n",
      "working time(ns): 968700\n"
     ]
    }
   ],
   "source": [
    "\n",
    "#We want to find the index in the list\n",
    "import time \n",
    "\n",
    "def binary_search(arr:list, number:int, low:int, high:int) -> int:\n",
    "    \n",
    "    if low <= high:\n",
    "        mid = (low + high) // 2\n",
    "        \n",
    "        #If x is equal to the median element, return the current index.\n",
    "        if arr[mid] == number:\n",
    "            return arr.index(number)\n",
    "        \n",
    "        #If x is less than the median element, check the right side\n",
    "        elif arr[mid] < number:\n",
    "            return binary_search(arr, number, mid+1, high)\n",
    "        \n",
    "        #If x is greater than the median element, check the left side\n",
    "        else:\n",
    "            return binary_search(arr, number, low, mid - 1)\n",
    "        \n",
    "    #Return -1 if element not found\n",
    "    return -1\n",
    "    \n",
    "start_time = time.time_ns() \n",
    "arr = list(range(1000))\n",
    "number = 699\n",
    "result = binary_search(arr, number, 0, len(arr) - 1)\n",
    "           \n",
    "if result != -1:\n",
    "    print(f\"we found number. Index of the number : {result}\")\n",
    "    \n",
    "elif result == -1:\n",
    "    print(\"we didnt find number\")\n",
    "    \n",
    "end_time = time.time_ns()\n",
    "binary_search_elapsed_time = end_time - start_time\n",
    "print(\"working time(ns):\", binary_search_elapsed_time)\n"
   ]
  },
  {
   "cell_type": "code",
   "execution_count": 75,
   "id": "fffcf073",
   "metadata": {},
   "outputs": [
    {
     "name": "stdout",
     "output_type": "stream",
     "text": [
      "we found x number 561\n",
      "working time(ns): 2996600\n"
     ]
    }
   ],
   "source": [
    "\n",
    "start_time = time.time_ns() \n",
    "number = 561\n",
    "arr = list(range(1000))\n",
    "\n",
    "for i in arr:\n",
    "    if i == number:\n",
    "        print(\"we found x number\",  arr.index(number))\n",
    "        break \n",
    "        \n",
    "else:\n",
    "    print(\"We didint find x number\")\n",
    "end_time = time.time_ns()    \n",
    "regular_elapsed_time = end_time - start_time \n",
    "print(\"working time(ns):\", regular_elapsed_time)\n",
    "          \n"
   ]
  },
  {
   "cell_type": "code",
   "execution_count": 84,
   "id": "a0abf857",
   "metadata": {},
   "outputs": [
    {
     "name": "stdout",
     "output_type": "stream",
     "text": [
      "Binary search elapsed time : 968700 Regular search elapsed time: 2996600\n"
     ]
    }
   ],
   "source": [
    "print( \"Binary search elapsed time :\", binary_search_elapsed_time, \"Regular search elapsed time:\", regular_elapsed_time)\n",
    "\n"
   ]
  },
  {
   "cell_type": "code",
   "execution_count": null,
   "id": "6688ec5b",
   "metadata": {},
   "outputs": [],
   "source": []
  },
  {
   "cell_type": "code",
   "execution_count": null,
   "id": "5d50dd5b",
   "metadata": {},
   "outputs": [],
   "source": []
  }
 ],
 "metadata": {
  "kernelspec": {
   "display_name": "Python 3 (ipykernel)",
   "language": "python",
   "name": "python3"
  },
  "language_info": {
   "codemirror_mode": {
    "name": "ipython",
    "version": 3
   },
   "file_extension": ".py",
   "mimetype": "text/x-python",
   "name": "python",
   "nbconvert_exporter": "python",
   "pygments_lexer": "ipython3",
   "version": "3.11.5"
  }
 },
 "nbformat": 4,
 "nbformat_minor": 5
}
