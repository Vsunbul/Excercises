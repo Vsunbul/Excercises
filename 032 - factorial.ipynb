{
 "cells": [
  {
   "cell_type": "code",
   "execution_count": 42,
   "id": "5c0b1d39",
   "metadata": {
    "scrolled": true
   },
   "outputs": [
    {
     "name": "stdout",
     "output_type": "stream",
     "text": [
      "Push 'x' for exit:\n",
      "Enter a value for factorial: 3\n",
      "Factorial of number :  6\n"
     ]
    }
   ],
   "source": [
    "def factorial(number:int) -> int:\n",
    "    factor = 1\n",
    "    for i in range(2, number + 1):\n",
    "        factor *= i\n",
    "    return  factor \n",
    "            \n",
    "    \"\"\"\n",
    "    \n",
    "    This function performs the factorial operation.\n",
    "    \n",
    "    input: number -> integer\n",
    "    output: number -> integer\n",
    "    \n",
    "    \"\"\"    \n",
    "    \n",
    "while True:\n",
    "    print(\"Push 'x' for exit:\")\n",
    "    number = input(\"Enter a value for factorial: \")\n",
    "       \n",
    "    if number == \"x\":\n",
    "        print(\"Program exited!\")\n",
    "        break\n",
    "              \n",
    "    elif number.isdigit() != True:\n",
    "        print(\"Wrong data entry. Enter type of digit value!\")\n",
    "              \n",
    "    else:\n",
    "        number = int(number)\n",
    "              \n",
    "        if number == 0 or number == 1:\n",
    "            factor = 1\n",
    "            print(\"Factorial of number : \", factor)\n",
    "            break\n",
    "            \n",
    "        else:\n",
    "            factor = factorial(number)\n",
    "            print(\"Factorial of number : \",  factor)\n",
    "            break\n",
    "                \n"
   ]
  },
  {
   "cell_type": "code",
   "execution_count": null,
   "id": "07047877",
   "metadata": {},
   "outputs": [],
   "source": []
  }
 ],
 "metadata": {
  "kernelspec": {
   "display_name": "Python 3 (ipykernel)",
   "language": "python",
   "name": "python3"
  },
  "language_info": {
   "codemirror_mode": {
    "name": "ipython",
    "version": 3
   },
   "file_extension": ".py",
   "mimetype": "text/x-python",
   "name": "python",
   "nbconvert_exporter": "python",
   "pygments_lexer": "ipython3",
   "version": "3.11.5"
  }
 },
 "nbformat": 4,
 "nbformat_minor": 5
}
