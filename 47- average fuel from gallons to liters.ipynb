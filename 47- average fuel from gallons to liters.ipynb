{
 "cells": [
  {
   "cell_type": "code",
   "execution_count": 16,
   "id": "4fd67f80",
   "metadata": {},
   "outputs": [
    {
     "name": "stdout",
     "output_type": "stream",
     "text": [
      "Enter miles traveled on 1 gallon of gas :60\n",
      " Enter amount of fuel burned per 100 km :7\n",
      "3.920243055555555 l/100\n",
      "33.602083333333326  mil/gal\n"
     ]
    }
   ],
   "source": [
    "\n",
    "GALON = 3.785411784 #litre\n",
    "\n",
    "MILE = 1.609344 #kilometer\n",
    "\n",
    "def liters_100km_to_miles_gallon(litres_gas):\n",
    "    \"\"\"\n",
    "    \n",
    "    This function gives the distance in miles that a vehicle \n",
    "    with an average fuel consumption of 100 km \n",
    "    will travel with 1 gallon of fuel.\n",
    "    \n",
    "    input litres_gas -> integer\n",
    "    output miles -> float\n",
    "    \n",
    "    \"\"\"\n",
    "    \n",
    "return (100 * GALON) / (MILE * litres_gas) \n",
    "\n",
    "def miles_gallon_to_liters_100km(one_galon_gass_with_miles):\n",
    "    \n",
    "    \"\"\"\n",
    "    This function gives the distance traveled with\n",
    "    one gallon of fuel and how many liters of fuel are consumed in 100 km.\n",
    "    \n",
    "    input litres_gas -> integer\n",
    "    output miles -> float\n",
    "    \n",
    "    \n",
    "    \"\"\"\n",
    "    \n",
    "    return (100  * GALON) / (one_galon_gass_with_miles * MILE)\n",
    "\n",
    "one_galon_gass_with_miles = int(input(\"Enter miles traveled on 1 gallon of gas :\"))\n",
    "litres_gas = int(input(\"Enter amount of fuel burned per 100 km :\"))   \n",
    "\n",
    "print(miles_gallon_to_liters_100km(one_galon_gass_with_miles),\"l/100\")\n",
    "print(liters_100km_to_miles_gallon(litres_gas),\" mil/gal\")\n",
    "\n",
    "#1 Amerikan mili = 1609,344 metre; 1 Amerikan galonu = 3,785411784 litre."
   ]
  },
  {
   "cell_type": "code",
   "execution_count": null,
   "id": "18540d38",
   "metadata": {},
   "outputs": [],
   "source": []
  },
  {
   "cell_type": "code",
   "execution_count": null,
   "id": "3f86827b",
   "metadata": {},
   "outputs": [],
   "source": []
  }
 ],
 "metadata": {
  "kernelspec": {
   "display_name": "Python 3 (ipykernel)",
   "language": "python",
   "name": "python3"
  },
  "language_info": {
   "codemirror_mode": {
    "name": "ipython",
    "version": 3
   },
   "file_extension": ".py",
   "mimetype": "text/x-python",
   "name": "python",
   "nbconvert_exporter": "python",
   "pygments_lexer": "ipython3",
   "version": "3.11.5"
  }
 },
 "nbformat": 4,
 "nbformat_minor": 5
}
