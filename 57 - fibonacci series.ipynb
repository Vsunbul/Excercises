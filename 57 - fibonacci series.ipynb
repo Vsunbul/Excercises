{
 "cells": [
  {
   "cell_type": "markdown",
   "id": "865116e8",
   "metadata": {},
   "source": [
    "## fibonacci series"
   ]
  },
  {
   "cell_type": "code",
   "execution_count": 2,
   "id": "c9157c89",
   "metadata": {},
   "outputs": [
    {
     "name": "stdout",
     "output_type": "stream",
     "text": [
      "enter a number :100\n",
      "1\n",
      "2\n",
      "3\n",
      "5\n",
      "8\n",
      "13\n",
      "21\n",
      "34\n",
      "55\n",
      "89\n"
     ]
    }
   ],
   "source": [
    "# 0,1,2,3,5,8,...,n\n",
    "\n",
    "# Bring Fibonacci numbers smaller than n\n",
    "number = int(input(\"enter a number :\"))\n",
    "\n",
    "first_step = 0\n",
    "second_step = 1\n",
    "fibo_number = first_step + second_step\n",
    "\n",
    "while fibo_number <= number:\n",
    "    print(fibo_number)\n",
    "    first_step = second_step\n",
    "    second_step = fibo_number\n",
    "    fibo_number = first_step + second_step\n",
    "    "
   ]
  },
  {
   "cell_type": "code",
   "execution_count": null,
   "id": "da0eae80",
   "metadata": {},
   "outputs": [],
   "source": []
  }
 ],
 "metadata": {
  "kernelspec": {
   "display_name": "Python 3 (ipykernel)",
   "language": "python",
   "name": "python3"
  },
  "language_info": {
   "codemirror_mode": {
    "name": "ipython",
    "version": 3
   },
   "file_extension": ".py",
   "mimetype": "text/x-python",
   "name": "python",
   "nbconvert_exporter": "python",
   "pygments_lexer": "ipython3",
   "version": "3.11.5"
  }
 },
 "nbformat": 4,
 "nbformat_minor": 5
}
