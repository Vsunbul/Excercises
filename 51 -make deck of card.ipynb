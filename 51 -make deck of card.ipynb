{
 "cells": [
  {
   "cell_type": "code",
   "execution_count": 13,
   "id": "4fbc669c",
   "metadata": {},
   "outputs": [],
   "source": [
    "\n",
    "import random \n",
    "\n",
    "class Deck():\n",
    "    def __init__(self):\n",
    "        \"\"\"\n",
    "        \n",
    "        This function generates random card type\n",
    "        \n",
    "        \"\"\"\n",
    "        #Generates 1-10 card types\n",
    "        card_numbers = tuple(range(1,11))\n",
    "        card_heros = (\"Vale\", \"Dam\", \"Oli\")\n",
    "        #Combines with picture card type\n",
    "        cards = card_numbers + card_heros\n",
    "        card_types = (\"Heart\",\" Diamonds\", \"Clubs\", \"Spades\" )\n",
    "        \n",
    "        #Adds card type to the list\n",
    "        deck = list()\n",
    "        for card_type in card_types:\n",
    "            for card in cards:\n",
    "                deck.append(f\"{card_type} - {str(card)}\")\n",
    "        \n",
    "        for i in range(3):\n",
    "            deck.append(f\"Joker - {i + 1}\")\n",
    "        \n",
    "        \n",
    "        self.deck = deck\n",
    "        self.shuffle_cards()\n",
    "    \n",
    "    def shuffle_cards(self):\n",
    "        \"\"\"\n",
    "        This function shuffles the generated cards\n",
    "        \n",
    "        \"\"\"\n",
    "        deck = self.deck.copy()\n",
    "        shuffled_deck = list()\n",
    "\n",
    "        #Randomly selects a card from the deck and appends it\n",
    "        while len(deck) > 0:\n",
    "            random_card = random.choice(deck)\n",
    "            shuffled_deck.append(random_card)\n",
    "            deck.remove(random_card)\n",
    "        \n",
    "        self.deck = shuffled_deck\n",
    "        \n"
   ]
  },
  {
   "cell_type": "code",
   "execution_count": null,
   "id": "a1d0fb45",
   "metadata": {},
   "outputs": [],
   "source": [
    "cards = Deck()"
   ]
  },
  {
   "cell_type": "code",
   "execution_count": 1,
   "id": "b96d20cb",
   "metadata": {},
   "outputs": [
    {
     "ename": "NameError",
     "evalue": "name 'cards' is not defined",
     "output_type": "error",
     "traceback": [
      "\u001b[1;31m---------------------------------------------------------------------------\u001b[0m",
      "\u001b[1;31mNameError\u001b[0m                                 Traceback (most recent call last)",
      "Cell \u001b[1;32mIn[1], line 1\u001b[0m\n\u001b[1;32m----> 1\u001b[0m \u001b[43mcards\u001b[49m\u001b[38;5;241m.\u001b[39mdeck\n",
      "\u001b[1;31mNameError\u001b[0m: name 'cards' is not defined"
     ]
    }
   ],
   "source": [
    "cards.deck\n"
   ]
  },
  {
   "cell_type": "code",
   "execution_count": null,
   "id": "07962c28",
   "metadata": {},
   "outputs": [],
   "source": []
  }
 ],
 "metadata": {
  "kernelspec": {
   "display_name": "Python 3 (ipykernel)",
   "language": "python",
   "name": "python3"
  },
  "language_info": {
   "codemirror_mode": {
    "name": "ipython",
    "version": 3
   },
   "file_extension": ".py",
   "mimetype": "text/x-python",
   "name": "python",
   "nbconvert_exporter": "python",
   "pygments_lexer": "ipython3",
   "version": "3.12.1"
  }
 },
 "nbformat": 4,
 "nbformat_minor": 5
}
