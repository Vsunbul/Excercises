{
 "cells": [
  {
   "cell_type": "markdown",
   "id": "7730a27a",
   "metadata": {},
   "source": [
    "# EXERCİSES(Egzersizler)"
   ]
  },
  {
   "cell_type": "markdown",
   "id": "d77e763c",
   "metadata": {},
   "source": [
    "## 1. Adapting to python (Python'a adapte olmak)\n",
    "Use \"print()\" function to print \"hello python\" to the screen. Use (\"\") sign around string.\n",
    "(Ekrana \"Merhaba Python!\" satırını yazdırmak için print() işlevini kullanın. Dizenin etrafında çift tırnak işareti kullanın;)"
   ]
  },
  {
   "cell_type": "code",
   "execution_count": 1,
   "id": "2b033922",
   "metadata": {},
   "outputs": [
    {
     "name": "stdout",
     "output_type": "stream",
     "text": [
      "hello python\n"
     ]
    }
   ],
   "source": [
    "print(\"hello python\")\n",
    "\n",
    "# Kodunuzu buraya yazın\n"
   ]
  },
  {
   "cell_type": "markdown",
   "id": "3f6f7888",
   "metadata": {},
   "source": [
    "After doing this use print function again, but write your name this time. (Bunu yaptıktan sonra print() işlevini tekrar kullanın, ancak bu sefer adınızı yazdırın;)"
   ]
  },
  {
   "cell_type": "code",
   "execution_count": 2,
   "id": "c3aade6b",
   "metadata": {},
   "outputs": [
    {
     "name": "stdout",
     "output_type": "stream",
     "text": [
      "my name is vahit sünbül\n"
     ]
    }
   ],
   "source": [
    "print(\"my name is vahit sünbül\")"
   ]
  },
  {
   "cell_type": "markdown",
   "id": "8921f745",
   "metadata": {},
   "source": [
    "Remove double quotes and run your code. Watch python' reaction.(Çift tırnak işaretlerini kaldırın ve kodunuzu çalıştırın. What kind of error is thrown?\n",
    "Python'un tepkisini izleyin. Ne tür bir hata atılıyor?)"
   ]
  },
  {
   "cell_type": "code",
   "execution_count": 3,
   "id": "f9d4b0f3",
   "metadata": {},
   "outputs": [
    {
     "ename": "SyntaxError",
     "evalue": "invalid syntax. Perhaps you forgot a comma? (2960151892.py, line 2)",
     "output_type": "error",
     "traceback": [
      "\u001b[1;36m  Cell \u001b[1;32mIn[3], line 2\u001b[1;36m\u001b[0m\n\u001b[1;33m    print (my name is vahit sunbul)\u001b[0m\n\u001b[1;37m           ^\u001b[0m\n\u001b[1;31mSyntaxError\u001b[0m\u001b[1;31m:\u001b[0m invalid syntax. Perhaps you forgot a comma?\n"
     ]
    }
   ],
   "source": [
    "# Kodunuzu buraya yazın\n",
    "print (my name is vahit sunbul)"
   ]
  },
  {
   "cell_type": "markdown",
   "id": "fad9e974",
   "metadata": {},
   "source": [
    "After remove the parentheses, and put he comma again. after run again code.what kind of error is thrown?\n",
    "\n",
    "(Ardından parantezleri kaldırın, çift tırnak işaretlerini geri koyun ve kodunuzu yeniden çalıştırın. Bu sefer ne tür bir hata atılıyor? )"
   ]
  },
  {
   "cell_type": "code",
   "execution_count": 4,
   "id": "be9ab042",
   "metadata": {},
   "outputs": [
    {
     "ename": "SyntaxError",
     "evalue": "Missing parentheses in call to 'print'. Did you mean print(...)? (4188699435.py, line 1)",
     "output_type": "error",
     "traceback": [
      "\u001b[1;36m  Cell \u001b[1;32mIn[4], line 1\u001b[1;36m\u001b[0m\n\u001b[1;33m    print\"my name is vahit sünbül\"\u001b[0m\n\u001b[1;37m    ^\u001b[0m\n\u001b[1;31mSyntaxError\u001b[0m\u001b[1;31m:\u001b[0m Missing parentheses in call to 'print'. Did you mean print(...)?\n"
     ]
    }
   ],
   "source": [
    "print\"my name is vahit sünbül\"\n",
    "\n",
    "# Kodunuzu buraya yazın\n"
   ]
  },
  {
   "cell_type": "markdown",
   "id": "92d3d0f9",
   "metadata": {},
   "source": [
    "Convert double quotes to single quotes, use  multiple print() functions on the same line and then on different lines.\n",
    "\n",
    "(Çift tırnak işaretini tek tırnak işaretine dönüştürün, aynı satırda ve ardından farklı satırlarda birden fazla print() işlevi kullanın. Ne oluyor?)"
   ]
  },
  {
   "cell_type": "code",
   "execution_count": 8,
   "id": "2cbc1dee",
   "metadata": {
    "scrolled": true
   },
   "outputs": [
    {
     "name": "stdout",
     "output_type": "stream",
     "text": [
      "vahit sünbül\n"
     ]
    }
   ],
   "source": [
    "print('vahit sünbül')\n",
    "\n",
    "\n",
    "# Kodunuzu buraya yazın\n"
   ]
  },
  {
   "cell_type": "code",
   "execution_count": 9,
   "id": "d1544bb6",
   "metadata": {},
   "outputs": [
    {
     "ename": "SyntaxError",
     "evalue": "invalid syntax (342001226.py, line 1)",
     "output_type": "error",
     "traceback": [
      "\u001b[1;36m  Cell \u001b[1;32mIn[9], line 1\u001b[1;36m\u001b[0m\n\u001b[1;33m    print('vahit sünbül') print(\"vahit sünbül\")\u001b[0m\n\u001b[1;37m                          ^\u001b[0m\n\u001b[1;31mSyntaxError\u001b[0m\u001b[1;31m:\u001b[0m invalid syntax\n"
     ]
    }
   ],
   "source": [
    "\n",
    "print('vahit sünbül') print(\"vahit sünbül\")\n",
    "# Kodunuzu buraya yazın\n"
   ]
  },
  {
   "cell_type": "markdown",
   "id": "52d8b77b",
   "metadata": {},
   "source": [
    "## 2. Variable Definition (Değişken Tanımlama)\n",
    "\n",
    "1. Create these variables: ahmet, mehmet, hasan;\n",
    "(Şu değişkenleri oluşturun: ahmet, mehmet, hasan;)\n",
    "\n",
    "2. Assign values to variables. the values must be equal  to the number  of fruits ahmet , mehmet, hasan.Give the value you want.\n",
    "(Değişkenlere değer atayın. Değerler sırasıyla ahmet, mehmet, hasan'in sahip olduğu meyve sayılarına eşit olmalıdır. İstediğiniz değeri verin;)\n",
    "\n",
    "3. after saving the numbers to the variables, print variables on line and seperate each with a comma.\n",
    "(Sayıları değişkenlere kaydettikten sonra değişkenleri bir satıra yazdırın ve her birini virgülle ayırın;)\n",
    "\n",
    "4. Now create a new variable called total_apples with the sum of the previous variables. \n",
    "(Şimdi önceki üç değişkenin toplamına eşit olan total_apples adında yeni bir değişken oluşturun.)\n",
    "\n",
    "5. print total_apples value to the screen.\n",
    "(total_apples'ta saklanan değeri konsola yazdırın;)\n",
    "\n",
    "6. experiment with your code : create new variables, assign them different values and perform arthmetic operations with them.(example :+, -, *, /, // etc.) Try printing a string with a in integer. example\"total number of  apples \" and toplam_elmalar.\n",
    "(kodunuzla denemeler yapın: yeni değişkenler oluşturun, onlara farklı değerler atayın ve üzerlerinde çeşitli aritmetik işlemler gerçekleştirin (örneğin, +, -, *, /, // vb.). Bir dizeyi ve bir tam sayıyı birlikte tek bir satıra yazdırmayı deneyin; örneğin, \"Toplam elma sayısı:\" ve toplam_elmalar.) "
   ]
  },
  {
   "cell_type": "code",
   "execution_count": 15,
   "id": "1374c349",
   "metadata": {},
   "outputs": [],
   "source": [
    "ahmet,mehmet,hasan=10,20,33\n"
   ]
  },
  {
   "cell_type": "code",
   "execution_count": 16,
   "id": "01636f3c",
   "metadata": {},
   "outputs": [
    {
     "data": {
      "text/plain": [
       "10"
      ]
     },
     "execution_count": 16,
     "metadata": {},
     "output_type": "execute_result"
    }
   ],
   "source": [
    "ahmet"
   ]
  },
  {
   "cell_type": "code",
   "execution_count": 17,
   "id": "4e982fd5",
   "metadata": {},
   "outputs": [
    {
     "name": "stdout",
     "output_type": "stream",
     "text": [
      "10 , 20 , 33\n"
     ]
    }
   ],
   "source": [
    "print(ahmet,\",\",mehmet,\",\",hasan )"
   ]
  },
  {
   "cell_type": "code",
   "execution_count": 21,
   "id": "8572842c",
   "metadata": {},
   "outputs": [
    {
     "name": "stdout",
     "output_type": "stream",
     "text": [
      "63\n"
     ]
    }
   ],
   "source": [
    "total_apples=ahmet+mehmet+hasan\n",
    "print(total_apples)"
   ]
  },
  {
   "cell_type": "code",
   "execution_count": 26,
   "id": "9eefbcd9",
   "metadata": {},
   "outputs": [
    {
     "name": "stdout",
     "output_type": "stream",
     "text": [
      "ahmet: 10 \n",
      "mehmet: 20 \n",
      "hasan 33 \n",
      "hamdi: 66 \n",
      "number of total apples: 393\n"
     ]
    }
   ],
   "source": [
    "hamdi=66\n",
    "total_apples=hamdi+total_apples\n",
    "print (\"ahmet:\",ahmet,\"\\nmehmet:\",mehmet,\"\\nhasan\",hasan,\"\\nhamdi:\",hamdi,\"\\nnumber of total apples:\",total_apples )"
   ]
  },
  {
   "cell_type": "markdown",
   "id": "ec46d957",
   "metadata": {},
   "source": [
    "## 3. simple Transformations (Basit Dönüşümler)\n",
    "\n",
    "Miles or kilometers are units of length or distance\n",
    "(Mil ve kilometre uzunluk veya mesafe birimleridir.)\n",
    "\n",
    "1 mile equals approximately 1.61 kilometers\n",
    "\n",
    "(1 mil yaklaşık 1,61 kilometreye eşittir.)\n",
    "\n",
    "\n",
    "miles to kilometers\n",
    "kilometers to miles \n",
    "(milden - kilometreye; kilometreden mile.)\n",
    "\n",
    "\n",
    "Do not change anything in existing code.### where indicated, write your code. Test your program with the data together we provide in the source code   \n",
    "(Mevcut kodda hiçbir şeyi değiştirmeyin. ### ile belirtilen yerlere kodunuzu yazın. Programınızı kaynak kodunda sağladığımız verilerle test edin.)\n",
    "\n",
    "Especially look inside the print() function. Examine the fonction how to we add multiple arguments and the expected data actually came out.\n",
    "(print() fonksiyonunun içinde olup bitenlere özellikle dikkat edin. Fonksiyona nasıl birden fazla argüman sağladığımızı ve beklenen verileri nasıl çıkardığımızı analiz edin.)\n",
    "\n",
    "\n",
    "Remember:\n",
    "Some arguments in the print() function are strings.(example \"miles is\")\n",
    "some others is variable.(example mil)\n",
    "(print() fonksiyonu içindeki bazı bağımsız değişkenlerin string olduğunu (örneğin, \"miles is\"), diğer bazılarının ise değişken (örneğin mil) olduğunu unutmayın.)\n",
    "\n",
    "clue --->(İPUCU)\n",
    "in the below code, there is other function inside of print() function. This is round() function.Its task is to round the output result to the number of decimal places specified in parentheses. and convert it to a decimal number. (inside the round() function you can find the name of the variable, its comma, and the number of decimal places we are targeting).\n",
    "\n",
    "(Aşağıdaki kodda, print() fonksiyonunun içinde başka bir fonksiyon vardır. Bu, round() fonksiyonudur. Görevi, çıktı sonucunu parantez içinde belirtilen ondalık basamak sayısına yuvarlamak ve bir ondalıklı sayıya döndürmektir (round() işlevinin içinde değişkenin adını, virgülünü ve hedeflediğimiz ondalık basamak sayısını bulabilirsiniz).) "
   ]
  },
  {
   "cell_type": "code",
   "execution_count": 28,
   "id": "53b70969",
   "metadata": {},
   "outputs": [
    {
     "name": "stdout",
     "output_type": "stream",
     "text": [
      "7.38 miles is 11.88 kilometers\n",
      "12.25 kilometers is 7.61 miles\n"
     ]
    }
   ],
   "source": [
    "kilometers = 12.25\n",
    "miles = 7.38\n",
    "\n",
    "miles_to_kilometers = miles*1.61\n",
    "kilometers_to_miles = kilometers/1.61\n",
    "\n",
    "print(miles, \"miles is\", round(miles_to_kilometers, 2), \"kilometers\")\n",
    "print(kilometers, \"kilometers is\", round(kilometers_to_miles, 2), \"miles\")"
   ]
  },
  {
   "cell_type": "raw",
   "id": "483aba30",
   "metadata": {},
   "source": [
    "Beklenen çıktı\n",
    "7,38 mil 11,88 kilometredir\n",
    "12,25 kilometre 7,61 mildir"
   ]
  },
  {
   "cell_type": "code",
   "execution_count": 30,
   "id": "640c58bc",
   "metadata": {},
   "outputs": [
    {
     "name": "stdout",
     "output_type": "stream",
     "text": [
      "11.8818\n",
      "7.608695652173912\n"
     ]
    }
   ],
   "source": [
    "kilometers = 12.25\n",
    "miles = 7.38\n",
    "\n",
    "miles_to_kilometers = miles*1.61\n",
    "kilometers_to_miles = kilometers/1.61\n",
    "print(miles_to_kilometers)\n",
    "print(kilometers_to_miles)"
   ]
  },
  {
   "cell_type": "markdown",
   "id": "4af3d611",
   "metadata": {},
   "source": [
    "## 4. polynomial (Polinom)\n",
    "\n",
    "check out the code below. It reads decimal number. Assigns it to a variable called x. And it prints variable of named y. Your task is to create the following expression.\n",
    "\n",
    "(Aşağıdaki koda bir göz atın: ondalıklı sayıyı okur, onu x adlı bir değişkene koyar ve y adlı bir değişkenin değerini yazdırır. Göreviniz aşağıdaki ifadeyi oluşturmaktır:)\n",
    "\n",
    "3x3 - 2x2 + 3x - 1\n",
    "\n",
    "The result should be assigned to \"y\".\n",
    "(Sonuç y'ye atanmalıdır.)\n",
    "\n",
    "Klasik cebirsel gösterimin çarpma operatörünü atlamayı sevdiğini unutmayın; bunu açıkça kullanmanız gerekir. X'in float türünde olduğundan emin olmak için veri türünü nasıl değiştirdiğimizi unutmayın.\n",
    "\n",
    "Kodunuzu temiz ve okunabilir tutun ve sağladığımız verileri kullanarak, her seferinde x değişkenine atayarak (kodlayarak) test edin."
   ]
  },
  {
   "cell_type": "raw",
   "id": "c5bcb833",
   "metadata": {},
   "source": [
    "Örnek Girdiler\n",
    "\n",
    "x = 0\n",
    "x = 1\n",
    "x = -1\n",
    "\n",
    "Beklenen Çıktılar\n",
    "\n",
    "y = -1.0\n",
    "y = 3.0\n",
    "y = -9.0"
   ]
  },
  {
   "cell_type": "code",
   "execution_count": 40,
   "id": "68a9e610",
   "metadata": {},
   "outputs": [
    {
     "name": "stdout",
     "output_type": "stream",
     "text": [
      "y = -9.0\n"
     ]
    }
   ],
   "source": [
    "x = -1\n",
    "x = float(x)\n",
    "# kodunuzu buraya yazın\n",
    "y=3*(x**3)-2*(x**2)+3*x-1\n",
    "\n",
    "\n",
    "print(\"y =\", y)"
   ]
  },
  {
   "cell_type": "code",
   "execution_count": null,
   "id": "d926b7a7",
   "metadata": {},
   "outputs": [],
   "source": []
  }
 ],
 "metadata": {
  "kernelspec": {
   "display_name": "Python 3 (ipykernel)",
   "language": "python",
   "name": "python3"
  },
  "language_info": {
   "codemirror_mode": {
    "name": "ipython",
    "version": 3
   },
   "file_extension": ".py",
   "mimetype": "text/x-python",
   "name": "python",
   "nbconvert_exporter": "python",
   "pygments_lexer": "ipython3",
   "version": "3.11.5"
  },
  "nbTranslate": {
   "displayLangs": [
    "en",
    "tr"
   ],
   "hotkey": "alt-t",
   "langInMainMenu": true,
   "sourceLang": "tr",
   "targetLang": "en",
   "useGoogleTranslate": true
  }
 },
 "nbformat": 4,
 "nbformat_minor": 5
}
