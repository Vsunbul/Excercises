{
 "cells": [
  {
   "cell_type": "code",
   "execution_count": 6,
   "id": "1549bb7a",
   "metadata": {},
   "outputs": [
    {
     "name": "stdout",
     "output_type": "stream",
     "text": [
      "Enter a value range of 1-8 : 8\n",
      "Mario can pass through this wall. Let's we do it.\n",
      "          \n",
      "       #  #\n",
      "      ##  ##\n",
      "     ###  ###\n",
      "    ####  ####\n",
      "   #####  #####\n",
      "  ######  ######\n",
      " #######  #######\n",
      "########  ########\n"
     ]
    }
   ],
   "source": [
    "\n",
    "def make_wall(wall_level:int) -> str:\n",
    "    \"\"\"\n",
    "    This function makes a wall that increases and decreases.\n",
    "    Uses \"#\" in wall construction\n",
    "    \"\"\"\n",
    "    while True:\n",
    "        for i in range(wall_level +1):\n",
    "            wall_level -= 1\n",
    "            print((wall_level + 1) * \" \" + i * \"#\" + \"  \" + i * \"#\")\n",
    "        break\n",
    "\n",
    "wall_level = input(\"Enter a value range of 1-8 : \")\n",
    "\n",
    "if wall_level.isdigit() != True:\n",
    "    print(\"\"\"The entered value is not digit, the wall cannot be produced.\n",
    "          \"\\n\" Enter a value range of 1-8 \"\"\")\n",
    "    \n",
    "else:\n",
    "    wall_level = int(wall_level)                 \n",
    "\n",
    "    if 8 < wall_level:\n",
    "        print(\"\"\"Too high !! Please enter a value high enough for Mario to jump.\n",
    "              \"\\n\" Enter a value range of 1-8\"\"\")\n",
    "        \n",
    "    elif wall_level < 1:\n",
    "        print(\"\"\" We can't put a hole in front of because Mario must go up.\n",
    "              \"\\n\" Enter a value range of 1-8\"\"\")\n",
    "    \n",
    "    else :\n",
    "        print(\"Mario can pass through this wall. Let's we do it.\")\n",
    "        make_wall(wall_level)\n",
    "    "
   ]
  },
  {
   "cell_type": "code",
   "execution_count": null,
   "id": "8421e809",
   "metadata": {},
   "outputs": [],
   "source": []
  }
 ],
 "metadata": {
  "kernelspec": {
   "display_name": "Python 3 (ipykernel)",
   "language": "python",
   "name": "python3"
  },
  "language_info": {
   "codemirror_mode": {
    "name": "ipython",
    "version": 3
   },
   "file_extension": ".py",
   "mimetype": "text/x-python",
   "name": "python",
   "nbconvert_exporter": "python",
   "pygments_lexer": "ipython3",
   "version": "3.11.5"
  }
 },
 "nbformat": 4,
 "nbformat_minor": 5
}
