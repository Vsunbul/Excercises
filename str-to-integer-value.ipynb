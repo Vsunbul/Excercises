{
 "cells": [
  {
   "cell_type": "code",
   "execution_count": 1,
   "id": "9dbb492c",
   "metadata": {},
   "outputs": [
    {
     "name": "stdout",
     "output_type": "stream",
     "text": [
      "please enter a number:5461681615\n",
      "Transformed into integer list of str typ value number!\n",
      " [5, 1, 6, 1, 8, 6, 1, 6, 4, 5]\n"
     ]
    }
   ],
   "source": [
    "\"\"\"\n",
    "Target: Adding a number of type str into the list by separating its digits.\n",
    "\n",
    "Example:\n",
    "\n",
    "str_type_number = \"1231231231\"\n",
    "\n",
    "transformed_integer_number = map(int, list(str_type_number))\n",
    "\n",
    "print(transformed_integer_number)\n",
    "\n",
    "\"\"\"\n",
    "\n",
    "str_number = input(\"please enter a number:  \")\n",
    "\n",
    "integer_list = list()\n",
    "\n",
    "remaining_number = 0\n",
    "\n",
    "if str_number.isdigit() == False:\n",
    "    print(\"Incorrect entry! Please enter a number! \")\n",
    "    \n",
    "else:\n",
    "    length_number = len(str_number)\n",
    "    \n",
    "    for i in range(0, length_number):\n",
    "        \n",
    "        str_number = int(str_number)\n",
    "        remaining_number = str_number % 10\n",
    "        str_number = str_number // 10\n",
    "        \n",
    "        integer_list.append(remaining_number)\n",
    "\n",
    "print(\"Transformed into integer list of str typ value number!\\n\", integer_list)\n",
    "\n"
   ]
  },
  {
   "cell_type": "code",
   "execution_count": null,
   "id": "d96d99ea",
   "metadata": {},
   "outputs": [],
   "source": []
  }
 ],
 "metadata": {
  "kernelspec": {
   "display_name": "Python 3 (ipykernel)",
   "language": "python",
   "name": "python3"
  },
  "language_info": {
   "codemirror_mode": {
    "name": "ipython",
    "version": 3
   },
   "file_extension": ".py",
   "mimetype": "text/x-python",
   "name": "python",
   "nbconvert_exporter": "python",
   "pygments_lexer": "ipython3",
   "version": "3.11.5"
  }
 },
 "nbformat": 4,
 "nbformat_minor": 5
}
