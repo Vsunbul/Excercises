{
 "cells": [
  {
   "cell_type": "code",
   "execution_count": 1,
   "id": "ca6ba4ca",
   "metadata": {},
   "outputs": [
    {
     "name": "stdout",
     "output_type": "stream",
     "text": [
      "6 6\n",
      "generated personal id card number:\n",
      "\n",
      " [3, 3, 2, 5, 5, 5, 3, 0, 4, 6, 6]\n"
     ]
    }
   ],
   "source": [
    "import random \n",
    "\n",
    "\n",
    "\"\"\"\n",
    "\n",
    "---------------------------------------------------------------------------------------\n",
    "Target :write code that can generate an ID card number.\n",
    "\n",
    "---------------------------------------------------------------------------------------\n",
    "- It has 11 digits.\n",
    "- Each digit contains a numerical value.\n",
    "- The first digit cannot be 0.\n",
    "- When the sum of the 2nd, 4th, 6th and 8th digits is subtracted from 7 times the sum of\n",
    "  the 1st, 3rd, 5th, 7th and 9th digits, the remainder divided by 10, that is,\n",
    "  Mod10, gives us the 10th digit.\n",
    "- The remainder obtained from the sum of the \n",
    "  1st, 2nd, 3rd, 4th, 5th, 6th, 7th, 8th, 9th and 10th digits divided by 10,\n",
    "  that is, Mod10, gives us the 11th digit.\n",
    "\n",
    "---------------------------------------------------------------------------------------\n",
    "\n",
    "\"\"\"\n",
    "\n",
    "\n",
    "\n",
    "personal_id=list()\n",
    "\n",
    "while True:\n",
    "\n",
    "    value1 = random.randint(1,9)\n",
    "    value2 = random.randint(0,9)\n",
    "    value3 = random.randint(0,9)\n",
    "    value4 = random.randint(0,9)\n",
    "    value5 = random.randint(0,9)\n",
    "    value6 = random.randint(0,9)\n",
    "    value7 = random.randint(0,9)\n",
    "    value8 = random.randint(0,9)\n",
    "    value9 = random.randint(0,9)\n",
    "    value10 = random.randint(0,9)\n",
    "    value11 = random.randint(0,9)\n",
    "\n",
    "    test_number10 = ((value1 + value3 + value5 + value7 + value9) * 7 - (value2 + value4 + value6 + value8)) % 10 \n",
    "    test_number11 = (value1 + value2 + value3 + value4 + value5 + value6 + value7 + value8 + value9 + value10) % 10\n",
    "    \n",
    "    if test_number10 == value10 and test_number11 == value11:\n",
    "        print(f\"\"\" for control index10 :{test_number10}  and index11: {test_number11}\"\"\")\n",
    "        \n",
    "        personal_id.append(value1)\n",
    "        personal_id.append(value2)\n",
    "        personal_id.append(value3)\n",
    "        personal_id.append(value4)\n",
    "        personal_id.append(value5)\n",
    "        personal_id.append(value6)\n",
    "        personal_id.append(value7)\n",
    "        personal_id.append(value8)\n",
    "        personal_id.append(value9)\n",
    "        personal_id.append(value10)\n",
    "        personal_id.append(value11)\n",
    "        \n",
    "        break\n",
    "        \n",
    "    else:\n",
    "        continue\n",
    "        \n",
    "print(\"generated personal id card number:\\n\\n\", personal_id)"
   ]
  },
  {
   "cell_type": "code",
   "execution_count": null,
   "id": "0f9ff73e",
   "metadata": {},
   "outputs": [],
   "source": []
  }
 ],
 "metadata": {
  "kernelspec": {
   "display_name": "Python 3 (ipykernel)",
   "language": "python",
   "name": "python3"
  },
  "language_info": {
   "codemirror_mode": {
    "name": "ipython",
    "version": 3
   },
   "file_extension": ".py",
   "mimetype": "text/x-python",
   "name": "python",
   "nbconvert_exporter": "python",
   "pygments_lexer": "ipython3",
   "version": "3.11.5"
  }
 },
 "nbformat": 4,
 "nbformat_minor": 5
}
