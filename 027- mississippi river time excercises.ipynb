{
 "cells": [
  {
   "cell_type": "code",
   "execution_count": 5,
   "id": "c95a7b37",
   "metadata": {},
   "outputs": [
    {
     "name": "stdout",
     "output_type": "stream",
     "text": [
      "1 Mississippi\n",
      "2 Mississippi\n",
      "3 Mississippi\n",
      "4 Mississippi\n",
      "5 Mississippi\n",
      "5  seconds have passed!\n"
     ]
    }
   ],
   "source": [
    "\n",
    "\n",
    "import time\n",
    "\n",
    "\"\"\"\n",
    "\n",
    "Counting with Mississippi. Or it is used to count seconds. \n",
    "For example, \"one Mississippi, two Mississippi, three Mississippi\" \n",
    "takes approximately three seconds!\n",
    "Let's write a 5 second program.\n",
    "\n",
    "\"\"\"\n",
    "\n",
    "for i in range(1,6):\n",
    "    time.sleep(1)\n",
    "    print(i, \"Mississippi!\")\n",
    "print(i, \" seconds have passed!\")"
   ]
  },
  {
   "cell_type": "code",
   "execution_count": null,
   "id": "796d3854",
   "metadata": {},
   "outputs": [],
   "source": []
  }
 ],
 "metadata": {
  "kernelspec": {
   "display_name": "Python 3 (ipykernel)",
   "language": "python",
   "name": "python3"
  },
  "language_info": {
   "codemirror_mode": {
    "name": "ipython",
    "version": 3
   },
   "file_extension": ".py",
   "mimetype": "text/x-python",
   "name": "python",
   "nbconvert_exporter": "python",
   "pygments_lexer": "ipython3",
   "version": "3.11.5"
  }
 },
 "nbformat": 4,
 "nbformat_minor": 5
}
