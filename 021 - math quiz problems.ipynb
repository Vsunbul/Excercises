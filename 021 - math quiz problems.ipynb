{
 "cells": [
  {
   "cell_type": "code",
   "execution_count": 5,
   "id": "302842db",
   "metadata": {},
   "outputs": [
    {
     "name": "stdout",
     "output_type": "stream",
     "text": [
      "ask  the user those questions and \n",
      "then not let them continue until\n",
      "answer correct answer\n"
     ]
    }
   ],
   "source": [
    "\n",
    "print(\"\"\"ask  the user those questions and \n",
    "then not let them continue until\n",
    "answer correct answer\"\"\")"
   ]
  },
  {
   "cell_type": "code",
   "execution_count": 28,
   "id": "580039cd",
   "metadata": {},
   "outputs": [
    {
     "name": "stdout",
     "output_type": "stream",
     "text": [
      " Press enter to start!\n",
      "############################\n",
      "4 + 11\n",
      "Problem # 1 : 4 + 11 = 15\n",
      "9 * 7\n",
      "Problem # 2 : 9 * 7 = 63\n",
      "8 * 9\n",
      "Problem # 3 : 8 * 9 = 90\n",
      "wrong value:  1\n",
      "Problem # 3 : 8 * 9 = 954\n",
      "wrong value:  2\n",
      "Problem # 3 : 8 * 9 = 82\n",
      "wrong value:  3\n",
      "Problem # 3 : 8 * 9 = 72\n",
      "7 - 11\n",
      "Problem # 4 : 7 - 11 = -4\n",
      "6 - 7\n",
      "Problem # 5 : 6 - 7 = -1\n",
      "5 - 6\n",
      "Problem # 6 : 5 - 6 = -1\n",
      "6 + 8\n",
      "Problem # 7 : 6 + 8 = 14\n",
      "7 - 3\n",
      "Problem # 8 : 7 - 3 = 4\n",
      "10 * 8\n",
      "Problem # 9 : 10 * 8 = 80\n",
      "8 + 7\n",
      "Problem # 10 : 8 + 7 = 15\n",
      "##############################\n",
      "Nice Work! you finished  68.53 seconds! and total wrongs:  3\n"
     ]
    }
   ],
   "source": [
    "\n",
    "import random \n",
    "import time\n",
    "\n",
    "#our choices determine random value ranges and operations.\n",
    "operators= [\"+\", \"-\", \"*\"]\n",
    "min_operand = 3\n",
    "max_operand = 12\n",
    "total_problems = 10\n",
    "   \n",
    "def generate_problem():\n",
    "    #generate random values.\n",
    "    left = random.randint(min_operand, max_operand)\n",
    "    right = random.randint(min_operand, max_operand)\n",
    "    operator = random.choice(operators)\n",
    "    \n",
    "    #write the processing function.\n",
    "    expr = str(left) + \" \" + operator + \" \" + str(right)\n",
    "    print(expr)\n",
    "    answer = eval(expr)\n",
    "    \n",
    "    return expr, answer\n",
    "\n",
    "wrong = 0\n",
    "input(\" Press enter to start!\")\n",
    "print(\"############################\")\n",
    "\n",
    "#retun the current time in seconds since the epoch.\n",
    "start_time = time.time()\n",
    "for i in range(total_problems):\n",
    "    expr, answer = generate_problem()\n",
    "    while True:\n",
    "        guess = input(\"Problem # \" +  str(i + 1) + \" : \" + expr + \" = \")\n",
    "        if guess == str(answer):\n",
    "            break\n",
    "        else:\n",
    "            wrong += 1\n",
    "            print(\"wrong value: \" , wrong)\n",
    "            \n",
    "# for define finish time.\n",
    "end_time = time.time()\n",
    "total_time = round(end_time - start_time, 2)\n",
    "\n",
    "print(\"##############################\")\n",
    "print(\"Nice Work! you finished \", total_time, \"seconds! and total wrongs: \", wrong)\n",
    "    \n",
    "    \n",
    "    "
   ]
  },
  {
   "cell_type": "code",
   "execution_count": null,
   "id": "5ee1430c",
   "metadata": {},
   "outputs": [],
   "source": []
  },
  {
   "cell_type": "code",
   "execution_count": null,
   "id": "f7a670a3",
   "metadata": {},
   "outputs": [],
   "source": []
  }
 ],
 "metadata": {
  "kernelspec": {
   "display_name": "Python 3 (ipykernel)",
   "language": "python",
   "name": "python3"
  },
  "language_info": {
   "codemirror_mode": {
    "name": "ipython",
    "version": 3
   },
   "file_extension": ".py",
   "mimetype": "text/x-python",
   "name": "python",
   "nbconvert_exporter": "python",
   "pygments_lexer": "ipython3",
   "version": "3.11.5"
  }
 },
 "nbformat": 4,
 "nbformat_minor": 5
}
