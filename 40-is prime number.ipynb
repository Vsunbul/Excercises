{
 "cells": [
  {
   "cell_type": "code",
   "execution_count": null,
   "id": "d2cfefd7",
   "metadata": {},
   "outputs": [],
   "source": []
  },
  {
   "cell_type": "code",
   "execution_count": 10,
   "id": "008119fd",
   "metadata": {},
   "outputs": [
    {
     "name": "stdout",
     "output_type": "stream",
     "text": [
      "\n",
      "----------------------------------------\n",
      "checks whether a number  is prime or not\n",
      "----------------------------------------\n",
      "\n",
      "please enter a number:16\n",
      "Number 16 is not prime.\n"
     ]
    }
   ],
   "source": [
    "\n",
    "import time \n",
    "\n",
    "def prime_number(number:int) -> bool:\n",
    "    \n",
    "    \"\"\"\n",
    "    This function checks whether a number is prime or not.\n",
    "    input: number -> integer\n",
    "    \"\"\"\n",
    "    \n",
    "    #Define start time.\n",
    "    start_time = time.process_time_ns()\n",
    "    if (number <= 1):\n",
    "        return False\n",
    "    elif (number == 1):\n",
    "        return True\n",
    "    else: \n",
    "        for i in range(2, number):\n",
    "            if number % i == 0:\n",
    "                return False\n",
    "            #To calculate program run time\n",
    "        print(\"process duration\", time.process_time_ns() - start_time)\n",
    "            \n",
    "            \n",
    "\n",
    "print(\"\"\"\n",
    "----------------------------------------\n",
    "Checks whether a number  is prime or not.\n",
    "----------------------------------------\n",
    "\"\"\")            \n",
    "number = input(\"please enter a number:\")\n",
    "\n",
    "if number.isdigit() != True:\n",
    "    print(\"Please enter a number!!\")\n",
    "\n",
    "number = int(number)\n",
    "    \n",
    "if prime_number(number) == True:\n",
    "    print(f\"Number {number} is prime.\")\n",
    "else:\n",
    "    print(f\"Number {number} is not prime.\")\n",
    "  \n"
   ]
  },
  {
   "cell_type": "code",
   "execution_count": null,
   "id": "a6d0f0c4",
   "metadata": {},
   "outputs": [],
   "source": []
  },
  {
   "cell_type": "code",
   "execution_count": null,
   "id": "2f5599cb",
   "metadata": {},
   "outputs": [],
   "source": []
  },
  {
   "cell_type": "code",
   "execution_count": null,
   "id": "d4a1de1c",
   "metadata": {},
   "outputs": [],
   "source": []
  },
  {
   "cell_type": "code",
   "execution_count": null,
   "id": "855b268e",
   "metadata": {},
   "outputs": [],
   "source": []
  },
  {
   "cell_type": "code",
   "execution_count": null,
   "id": "e35bb390",
   "metadata": {},
   "outputs": [],
   "source": []
  },
  {
   "cell_type": "code",
   "execution_count": null,
   "id": "f278622e",
   "metadata": {},
   "outputs": [],
   "source": []
  }
 ],
 "metadata": {
  "kernelspec": {
   "display_name": "Python 3 (ipykernel)",
   "language": "python",
   "name": "python3"
  },
  "language_info": {
   "codemirror_mode": {
    "name": "ipython",
    "version": 3
   },
   "file_extension": ".py",
   "mimetype": "text/x-python",
   "name": "python",
   "nbconvert_exporter": "python",
   "pygments_lexer": "ipython3",
   "version": "3.11.5"
  }
 },
 "nbformat": 4,
 "nbformat_minor": 5
}
