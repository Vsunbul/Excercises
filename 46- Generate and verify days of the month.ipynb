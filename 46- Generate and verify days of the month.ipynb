{
 "cells": [
  {
   "cell_type": "code",
   "execution_count": null,
   "id": "548968c7",
   "metadata": {},
   "outputs": [],
   "source": []
  },
  {
   "cell_type": "code",
   "execution_count": 100,
   "id": "8e66c22a",
   "metadata": {},
   "outputs": [
    {
     "name": "stdout",
     "output_type": "stream",
     "text": [
      "1900 2 ->OK\n",
      "2000 2 ->OK\n",
      "2016 1 ->OK\n",
      "1987 11 ->OK\n"
     ]
    }
   ],
   "source": [
    "print(\"\"\"\n",
    "\n",
    "Your task is to write and test a function \n",
    "that takes two arguments (a year and a month) and \n",
    "returns the number of days for the given month/year pair \n",
    "(though only February is sensitive to the year value, \n",
    "your function should be universal).\n",
    "\n",
    "\n",
    "\"\"\")\n",
    "\n",
    "\n",
    "def leap_year(year:int)-> str:\n",
    "    \n",
    "   \"\"\"\n",
    "   This function checks if a year is a leap year.\n",
    "   input: year -> int\n",
    "   output: boolean -> T/F   \n",
    "   \"\"\" \n",
    "   if year % 100 == 0:\n",
    "        if year % 400 == 0:\n",
    "            return True\n",
    "        \n",
    "        else:\n",
    "            return False\n",
    "    \n",
    "   elif year % 4 == 0 :\n",
    "        return True\n",
    "        \n",
    "   else:\n",
    "        return False \n",
    "    \n",
    "def days_in_month(year: int, months:int) -> int:\n",
    "    \n",
    "   \"\"\"\n",
    "   \n",
    "   This function accurately generates the days of the months and\n",
    "   outputs the day of the desired month.\n",
    "   \n",
    "   input : year -> integer \n",
    "         : months -> integer\n",
    "   output: month -> integer\n",
    "   \n",
    "   \"\"\" \n",
    "    \n",
    "    month_list = []\n",
    "    for month in range(12):\n",
    "        \n",
    "        if month < 7:\n",
    "            if month % 2 == 0:\n",
    "                month_list.append(31)\n",
    "            elif month == 1:\n",
    "                if leap_year(year) == True:\n",
    "                    month_list.append(29)\n",
    "                else: \n",
    "                    month_list.append(28)\n",
    "       \n",
    "            elif month % 2 == 1:\n",
    "                month_list.append(30)\n",
    "    \n",
    "        elif month >= 7:\n",
    "            if month % 2 == 1:\n",
    "                month_list.append(31)\n",
    "           \n",
    "            elif month % 2 == 0:\n",
    "                month_list.append(30)\n",
    "    return month_list[months]\n",
    "\n",
    "\n",
    "test_years = [1900, 2000, 2016, 1987]\n",
    "test_months = [2, 2, 1, 11]\n",
    "test_results = [28, 29, 31, 30]\n",
    "for i in range(len(test_years)):\n",
    "    yr = test_years[i]\n",
    "    mo = test_months[i] - 1\n",
    "    print(yr, mo + 1, \"->\", end=\"\")\n",
    "    result = days_in_month(yr, mo)\n",
    "    if result == test_results[i]:\n",
    "        print(\"OK\")\n",
    "    else:\n",
    "        print(\"Failed\")"
   ]
  },
  {
   "cell_type": "code",
   "execution_count": null,
   "id": "5e5b982c",
   "metadata": {},
   "outputs": [],
   "source": [
    "\n",
    "    "
   ]
  }
 ],
 "metadata": {
  "kernelspec": {
   "display_name": "Python 3 (ipykernel)",
   "language": "python",
   "name": "python3"
  },
  "language_info": {
   "codemirror_mode": {
    "name": "ipython",
    "version": 3
   },
   "file_extension": ".py",
   "mimetype": "text/x-python",
   "name": "python",
   "nbconvert_exporter": "python",
   "pygments_lexer": "ipython3",
   "version": "3.11.5"
  }
 },
 "nbformat": 4,
 "nbformat_minor": 5
}
