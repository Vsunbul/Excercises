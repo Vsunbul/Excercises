{
 "cells": [
  {
   "cell_type": "code",
   "execution_count": 35,
   "id": "45177a71",
   "metadata": {},
   "outputs": [
    {
     "name": "stdout",
     "output_type": "stream",
     "text": [
      "Please enter 16 digit card number: 1234567891234567\n",
      "[1, 2, 3, 4, 5, 6, 7, 8, 9, 1, 2, 3, 4, 5, 6, 7]\n",
      "3\n",
      "Your card number is False!!! Please restart program and try again!\n"
     ]
    }
   ],
   "source": [
    "\n",
    "import random \n",
    "\n",
    "\n",
    "print(\"\"\"\n",
    "      \n",
    "----------------------------------------------------------------------------------------\n",
    "Target: This program generates a random credit card application using the Luhn algorithm.      \n",
    "      \n",
    "----------------------------------------------------------------------------------------\n",
    "1.The card number has 16 digits.\n",
    "2.Let's assume the last digit is X\n",
    "3.Let's multiply every second digit by 2, starting from x\n",
    "4.If we get a two-digit number, let's add the digits of this number.\n",
    "5.Let's add the x numbers obtained and all other numbers.\n",
    "6.We need to divide the resulting number exactly by 10. \n",
    "The missing number is our control number. \n",
    "That is, it is the last digit of our card number.\n",
    "------------------------------------------------------------------------------------------\n",
    "    \"\"\")\n",
    "\n",
    "\n",
    "X_multiple_numbers = []\n",
    "\n",
    "credit_card_number = input(\"Please enter 16 digit card number: \")\n",
    "\n",
    "#It is checked whether the entered values are correct.\n",
    "if len(credit_card_number) != 16:\n",
    "    print(\"Incorrect card number length entry!! Please restart program!!\")\n",
    "\n",
    "elif credit_card_number.isdigit() != True:\n",
    "    print(\"Card number entry is not digit!! Please restart program!!\")\n",
    "\n",
    "else:\n",
    "    luhn_number_list = list(map(int,list(credit_card_number)))\n",
    "    print(luhn_number_list)\n",
    "    \n",
    "    # divide the list into X and Y numbers.\n",
    "    X_numbers = luhn_number_list[0:15:2]\n",
    "    Y_numbers = luhn_number_list[1:14:2]\n",
    "    \n",
    "    for i in X_numbers:\n",
    "        # multiply the x numbers by 2\n",
    "        operated_number = i * 2\n",
    "\n",
    "        # find the sum of the digits of x numbers\n",
    "        if operated_number >= 10:\n",
    "            X_multiple_numbers.append((operated_number % 10) + 1)\n",
    "        else:\n",
    "            X_multiple_numbers.append(operated_number)\n",
    "\n",
    "# add all operated numbers.\n",
    "X_sum_numbers = sum(X_multiple_numbers)    \n",
    "Y_sum_numbers = sum(Y_numbers)\n",
    "\n",
    "\n",
    "#finding the control number\n",
    "Luhn_test_number = 10 - (( X_sum_numbers + Y_sum_numbers ) % 10)\n",
    "\n",
    "#Controlling numbers.\n",
    "if Luhn_test_number == luhn_number_list[15]:\n",
    "    print(\"Your card number is True.\")\n",
    "else: \n",
    "    print(\"Your card number is False!!! Please restart program and try again!\")"
   ]
  },
  {
   "cell_type": "code",
   "execution_count": 31,
   "id": "ca90a595",
   "metadata": {},
   "outputs": [
    {
     "name": "stdout",
     "output_type": "stream",
     "text": [
      "3\n"
     ]
    }
   ],
   "source": []
  },
  {
   "cell_type": "code",
   "execution_count": 20,
   "id": "fdf4c406",
   "metadata": {},
   "outputs": [
    {
     "data": {
      "text/plain": [
       "<map at 0x18a6dd11690>"
      ]
     },
     "execution_count": 20,
     "metadata": {},
     "output_type": "execute_result"
    }
   ],
   "source": []
  },
  {
   "cell_type": "code",
   "execution_count": null,
   "id": "7de3f1a2",
   "metadata": {},
   "outputs": [],
   "source": []
  }
 ],
 "metadata": {
  "kernelspec": {
   "display_name": "Python 3 (ipykernel)",
   "language": "python",
   "name": "python3"
  },
  "language_info": {
   "codemirror_mode": {
    "name": "ipython",
    "version": 3
   },
   "file_extension": ".py",
   "mimetype": "text/x-python",
   "name": "python",
   "nbconvert_exporter": "python",
   "pygments_lexer": "ipython3",
   "version": "3.11.5"
  }
 },
 "nbformat": 4,
 "nbformat_minor": 5
}
