{
 "cells": [
  {
   "cell_type": "code",
   "execution_count": null,
   "id": "9d0cc471",
   "metadata": {},
   "outputs": [],
   "source": [
    "\n",
    "\n",
    "\n",
    "#calculating Capasitor fomula Xc: Xc = 1 / 2 * f * (PI) * C\n",
    "#f = frequence, PI=3.14 , C = fahrad\n",
    "\n",
    "\n",
    "frequence = int( input(\"please enter frequence number: \"))\n",
    "pi_number = 3.14\n",
    "c_fahrad = int( input(\"please enter capasitor number: \"))\n",
    "calculated_fahrad = 1 / (2 * frequence * pi_number * c_fahrad)\n",
    "print(\"calculated fahrad resistance (Xc) :\", calculated_fahrad )\n",
    "\n",
    "#Electrical coil formula(Xl): Xl = 2  *  (PI) * f * L\n",
    "#f = frequence, PI = 3.14, L = Henry \\ n\n",
    "\n",
    "l_henry = int(input (\"please enter henry number: \"))\n",
    "calculated_henry = 2 * pi_number * frequence * l_henry\n",
    "print (\"calculated henry resistance (Xl)\", calculated_henry)\n",
    "\n",
    "ohm = int (input (\"please enter resistance ohm value :\"))\n",
    "\n",
    "#Impedence Formula=((Xl - Xc) * * 2 + R * * 2 )) * * 0.5\n",
    "calculated_impedence = (( calculated_henry - calculated_fahrad) ** 2 + ohm ** 2) ** 0.5\n",
    "print(f\"\"\"value of frequence : {frequence}, value of fahrad : {c_fahrad}, \n",
    "      value of henry : {l_henry}, value of ohm : {ohm} and  impedence  value : {calculated_impedence}\"\"\")\n",
    "      \n"
   ]
  },
  {
   "cell_type": "code",
   "execution_count": null,
   "id": "6957852c",
   "metadata": {},
   "outputs": [],
   "source": []
  }
 ],
 "metadata": {
  "kernelspec": {
   "display_name": "Python 3 (ipykernel)",
   "language": "python",
   "name": "python3"
  },
  "language_info": {
   "codemirror_mode": {
    "name": "ipython",
    "version": 3
   },
   "file_extension": ".py",
   "mimetype": "text/x-python",
   "name": "python",
   "nbconvert_exporter": "python",
   "pygments_lexer": "ipython3",
   "version": "3.11.5"
  }
 },
 "nbformat": 4,
 "nbformat_minor": 5
}
