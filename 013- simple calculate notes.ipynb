{
 "cells": [
  {
   "cell_type": "code",
   "execution_count": 5,
   "id": "e738af5e",
   "metadata": {},
   "outputs": [
    {
     "name": "stdout",
     "output_type": "stream",
     "text": [
      "\n",
      "Target: Calculate end of season lecture notes\n",
      "\n",
      "AA: 90 - 100 >>Successful\n",
      "BA: 80 - 89  >>Successful\n",
      "BB: 75 - 79  >>Successful\n",
      "CB: 70 - 74  >>Successful\n",
      "CC: 60 - 69  >>Successful\n",
      "DC: 50 - 59  >>Conditionally successful.\n",
      "DD: 40 - 49  >>Unsuccessful\"\n",
      "FD: 30 - 39  >>Unsuccessful\"\n",
      "FF: 0  - 29  >>Unsuccessful\"\n",
      "\n",
      "\n",
      "\n",
      "Please enter student mark :5\n",
      "FF Unsuccessful\n"
     ]
    }
   ],
   "source": [
    "print(\"\"\"\n",
    "Target: Calculate end of season lecture notes\n",
    "\n",
    "AA: 90 - 100 >>Successful\n",
    "BA: 80 - 89  >>Successful\n",
    "BB: 75 - 79  >>Successful\n",
    "CB: 70 - 74  >>Successful\n",
    "CC: 60 - 69  >>Successful\n",
    "DC: 50 - 59  >>Conditionally successful.\n",
    "DD: 40 - 49  >>Unsuccessful\"\n",
    "FD: 30 - 39  >>Unsuccessful\"\n",
    "FF: 0  - 29  >>Unsuccessful\"\n",
    "\n",
    "\n",
    "\"\"\")\n",
    "\n",
    "mark =int(input(\"Please enter student mark :\"))\n",
    "\n",
    "if mark > 100 or mark < 0:\n",
    "    print(\"Please enter range of 0-100:  \")\n",
    "\n",
    "elif mark >= 90 and mark <=100:\n",
    "    print(\"AA\" + \" Successful\")\n",
    "elif 79 < mark < 90:\n",
    "    print(\"BA\" + \" Successful\")\n",
    "elif 74 < mark < 80:\n",
    "    print(\"BB\" + \" Successful\")\n",
    "elif 69 < mark < 75:\n",
    "    print(\"CB\" + \" Successful\")\n",
    "elif 59 < mark < 70:\n",
    "    print(\"CC\"+ \" Successful\")\n",
    "elif 49 < mark < 59:\n",
    "    print(\"DC\" + \" Conditionally successful\")   \n",
    "elif 39 < mark < 49:\n",
    "    print(\"DD\" + \" Unsuccessful\")\n",
    "elif 29 < mark < 40:\n",
    "    print(\"FD\" + \" Unsuccessful\")   \n",
    "else:\n",
    "    print(\"FF\" + \" Unsuccessful\")"
   ]
  },
  {
   "cell_type": "code",
   "execution_count": null,
   "id": "0647689b",
   "metadata": {},
   "outputs": [],
   "source": [
    "\n"
   ]
  }
 ],
 "metadata": {
  "kernelspec": {
   "display_name": "Python 3 (ipykernel)",
   "language": "python",
   "name": "python3"
  },
  "language_info": {
   "codemirror_mode": {
    "name": "ipython",
    "version": 3
   },
   "file_extension": ".py",
   "mimetype": "text/x-python",
   "name": "python",
   "nbconvert_exporter": "python",
   "pygments_lexer": "ipython3",
   "version": "3.11.5"
  }
 },
 "nbformat": 4,
 "nbformat_minor": 5
}
