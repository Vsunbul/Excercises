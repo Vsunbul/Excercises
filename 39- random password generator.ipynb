{
 "cells": [
  {
   "cell_type": "code",
   "execution_count": 53,
   "id": "87aa0276",
   "metadata": {},
   "outputs": [
    {
     "name": "stdout",
     "output_type": "stream",
     "text": [
      "Enter the minimum lenght25\n",
      "Do you want to have numbers (y/n)?y\n",
      "Do you want to have special characters (y/n)?y\n",
      "the generated password is  p=-L&;Jlnx9\"kk=wIBv[QX5h|\n",
      "{U+nMSUD:olxaC#'~P:a~9\n"
     ]
    }
   ],
   "source": [
    "\n",
    "import random \n",
    "import string\n",
    "\n",
    "def generate_password(min_lenght, numbers = True, special_characters = True):\n",
    "    letters = string.ascii_letters\n",
    "    digits = string.digits\n",
    "    special = string.punctuation\n",
    "    \n",
    "    #print(letters, digits ,special)\n",
    "    \n",
    "    characters = letters\n",
    "    if numbers:\n",
    "        characters += digits\n",
    "    if special_characters:\n",
    "        characters += special\n",
    "    \n",
    "    pwd = \"\"\n",
    "    meets_criteria = False\n",
    "    has_number = False\n",
    "    has_special = False\n",
    "    \n",
    "    while not meets_criteria or len(pwd) < min_lenght:\n",
    "            new_char = random.choice(characters)\n",
    "            pwd += new_char\n",
    "            \n",
    "            if new_char in digits:\n",
    "                has_number = True\n",
    "            elif new_char in special:\n",
    "                has_special = True\n",
    "                \n",
    "            meets_criteria = True\n",
    "            if numbers:\n",
    "                meets_criteria = has_number\n",
    "            if special_characters:\n",
    "                meets_criteria = meets_criteria and has_special\n",
    "    return pwd\n",
    "\n",
    "\n",
    "min_lenght = int(input(\"Enter the minimum lenght\"))\n",
    "\n",
    "has_number = input (\"Do you want to have numbers (y/n)?\").lower() == \"y\"\n",
    "has_special = input (\"Do you want to have special characters (y/n)?\").lower() == \"y\"\n",
    "pwd = generate_password(min_lenght, has_number, has_special)\n",
    "print(\"the generated password is \", pwd)\n",
    "pwd = generate_password(10)\n",
    "            \n",
    "print(pwd)\n",
    "    \n",
    "\n",
    "\n"
   ]
  },
  {
   "cell_type": "code",
   "execution_count": null,
   "id": "9537746b",
   "metadata": {},
   "outputs": [],
   "source": []
  }
 ],
 "metadata": {
  "kernelspec": {
   "display_name": "Python 3 (ipykernel)",
   "language": "python",
   "name": "python3"
  },
  "language_info": {
   "codemirror_mode": {
    "name": "ipython",
    "version": 3
   },
   "file_extension": ".py",
   "mimetype": "text/x-python",
   "name": "python",
   "nbconvert_exporter": "python",
   "pygments_lexer": "ipython3",
   "version": "3.11.5"
  }
 },
 "nbformat": 4,
 "nbformat_minor": 5
}
