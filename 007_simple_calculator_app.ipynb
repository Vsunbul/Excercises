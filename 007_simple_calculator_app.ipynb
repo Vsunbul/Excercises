{
 "cells": [
  {
   "cell_type": "markdown",
   "id": "narrative-canada",
   "metadata": {},
   "source": [
    "## simple calculator app"
   ]
  },
  {
   "cell_type": "code",
   "execution_count": 3,
   "id": "stone-guess",
   "metadata": {},
   "outputs": [
    {
     "name": "stdout",
     "output_type": "stream",
     "text": [
      "\n",
      "This program prints the operations related to the two entered numbers on the screen.\n",
      "\n",
      "\n",
      "enter first number: 5\n",
      "enter second number: 5\n",
      "\n",
      "summed for entered two value :5.0 + 5.0 = 10.0 \n",
      "multipled for entered two value:5.0 * 5.0 = 25.0\n",
      "divided for entered two value:5.0 / 5.0 = 1.0\n",
      "subtracted for entered two value:5.0 - 5.0 = 0.0\n",
      "\n"
     ]
    }
   ],
   "source": [
    "\n",
    "\n",
    "print(\"\"\"\n",
    "This program prints the operations related to the two entered numbers on the screen.\n",
    "\n",
    "\"\"\")\n",
    "\n",
    "first_number=float(input(\"enter first number: \"))\n",
    "second_number=float(input(\"enter second number: \"))\n",
    "\n",
    "summed = first_number + second_number\n",
    "multiplied = first_number * second_number\n",
    "devided = first_number / second_number\n",
    "subtracted = first_number - second_number\n",
    "\n",
    "print(\"\"\"\n",
    "summed for entered two value :{0} + {1} = {2} \n",
    "multipled for entered two value:{0} * {1} = {3}\n",
    "divided for entered two value:{0} / {1} = {4}\n",
    "subtracted for entered two value:{0} - {1} = {5}\n",
    "\"\"\".format(first_number,second_number,summed,multiplied,devided,subtracted))"
   ]
  },
  {
   "cell_type": "code",
   "execution_count": null,
   "id": "extreme-florida",
   "metadata": {},
   "outputs": [],
   "source": []
  }
 ],
 "metadata": {
  "kernelspec": {
   "display_name": "Python 3 (ipykernel)",
   "language": "python",
   "name": "python3"
  },
  "language_info": {
   "codemirror_mode": {
    "name": "ipython",
    "version": 3
   },
   "file_extension": ".py",
   "mimetype": "text/x-python",
   "name": "python",
   "nbconvert_exporter": "python",
   "pygments_lexer": "ipython3",
   "version": "3.11.5"
  }
 },
 "nbformat": 4,
 "nbformat_minor": 5
}
