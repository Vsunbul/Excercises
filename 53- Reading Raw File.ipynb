{
 "cells": [
  {
   "cell_type": "code",
   "execution_count": 2,
   "id": "4cf91756",
   "metadata": {},
   "outputs": [
    {
     "name": "stdout",
     "output_type": "stream",
     "text": [
      "{'Canned tuna (in its own juice)': 92, 'Butter': 15, 'Coconut milk': 191, 'Cottage cheese 2%': 104, 'Eggs': 62, 'Avocado': 163, 'Bananas': 101, 'Broccoli': 124, 'Cucumber': 307, 'Orange': 94, 'Spinach': 8, 'Tomatoes': 62, 'Rice': 103, 'Thin lavash': 37, 'Olive oil': 7, 'Seed oil': 12, 'Agave syrup': 7, 'Balsamic vinegar': 4, 'Pesto sauce': 30, 'Turmeric': 2, 'Plant-based milk': 202, 'Reduced fat 2% milk': 225, 'Mussels': 199, 'Smoked mackerel': 139, 'Bell peppers': 62, 'Fresh berries': 195, 'Green peas': 108, 'Mushrooms': 108, 'Onions': 109, 'Maple syrup': 21, 'Mexican seasoning mix': 2, 'Salmon': 117, 'Smoked salmon': 269, 'Cocktail tomatoes': 367, 'Garlic': 3, 'Iceberg lettuce': 37, 'Gluten-free bread': 39, 'Sesame seeds': 8, 'Lemon juice': 24, 'Lime juice': 2, 'Rice vinegar': 35, 'Soy sauce': 91, 'Couscous': 157, 'Hummus': 106}\n",
      "44\n"
     ]
    }
   ],
   "source": [
    "info_raw_list = list()\n",
    "last_list = list()\n",
    "total_raw = dict() \n",
    "ingredient_raws = dict()\n",
    "\n",
    "def read_raw_file(file_name):\n",
    "    \"\"\"\n",
    "    -------\n",
    "    This function reads from the file.\n",
    "    \n",
    "    ------\n",
    "    \"\"\"\n",
    "    file = open(file_name, \"r\")\n",
    "    info_raw_list.append(file.read())\n",
    "    file.close()\n",
    "    \n",
    "read_raw_file(\"raw_list.txt\")\n",
    "info_raw_list = info_raw_list[0].split(\"\\n\")\n",
    "\n",
    "#Add those separated by meals and grams to the list.\n",
    "for raws in info_raw_list:  \n",
    "    if len(raws.split(\" - \")) == 2:\n",
    "        last_list.append(raws)\n",
    "        \n",
    "#Simplify meals and grams        \n",
    "for item in last_list:\n",
    "    item = item.split(\" - \")\n",
    "    total_raw[item[0]] = int(item[1].strip(\" g\"))\n",
    "\n",
    "#Performing addition by converting it to dictionary type.\n",
    "for i in total_raw:\n",
    "    if i not in ingredient_raws:\n",
    "        ingredient_raws[i] = total_raw[i]\n",
    "    else:\n",
    "        ingredient_raws[i] = total_raw[i] + ingredient_raws[i]\n",
    "print(ingredient_raws)   \n",
    "print(len(ingredient_raws))\n",
    "\n",
    "\n",
    "    "
   ]
  },
  {
   "cell_type": "code",
   "execution_count": null,
   "id": "919051c0",
   "metadata": {},
   "outputs": [],
   "source": []
  }
 ],
 "metadata": {
  "kernelspec": {
   "display_name": "Python 3 (ipykernel)",
   "language": "python",
   "name": "python3"
  },
  "language_info": {
   "codemirror_mode": {
    "name": "ipython",
    "version": 3
   },
   "file_extension": ".py",
   "mimetype": "text/x-python",
   "name": "python",
   "nbconvert_exporter": "python",
   "pygments_lexer": "ipython3",
   "version": "3.11.5"
  }
 },
 "nbformat": 4,
 "nbformat_minor": 5
}
