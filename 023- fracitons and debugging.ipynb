{
 "cells": [
  {
   "cell_type": "code",
   "execution_count": 3,
   "id": "73d4f00c",
   "metadata": {},
   "outputs": [],
   "source": [
    "import random\n",
    "\n",
    "print(\"\"\"Our aim is to generate error codes during \n",
    "the division process by printing data to the file.\"\"\")\n",
    "\n",
    "#open the file and print the data\n",
    "f = open(\"fractions.txt\", \"w\")\n",
    "\n",
    "for i in range(50):\n",
    "    f.write(str(random.randint(0, 48)) + \"-\" +\n",
    "            str(random.randint(0, 15)) + \"\\n\")\n",
    "f.close()"
   ]
  },
  {
   "cell_type": "code",
   "execution_count": null,
   "id": "4c7f467a",
   "metadata": {},
   "outputs": [],
   "source": []
  }
 ],
 "metadata": {
  "kernelspec": {
   "display_name": "Python 3 (ipykernel)",
   "language": "python",
   "name": "python3"
  },
  "language_info": {
   "codemirror_mode": {
    "name": "ipython",
    "version": 3
   },
   "file_extension": ".py",
   "mimetype": "text/x-python",
   "name": "python",
   "nbconvert_exporter": "python",
   "pygments_lexer": "ipython3",
   "version": "3.11.5"
  }
 },
 "nbformat": 4,
 "nbformat_minor": 5
}
