{
 "cells": [
  {
   "cell_type": "code",
   "execution_count": 6,
   "id": "954dbef3",
   "metadata": {},
   "outputs": [
    {
     "name": "stdout",
     "output_type": "stream",
     "text": [
      "\n",
      "The break statement is used to exit/terminate the loop.\n",
      "Design a program that uses a while loop and repeatedly prompts \n",
      "the user to enter a word unless the user enters \"abracadabra\" as the secret output word;\n",
      "in this case \"You have successfully exited the loop.\"\n",
      "The message should be printed on the screen and the loop should be terminated.\n",
      "\n",
      "enter a magic word if you want to exit program!open susame open\n",
      "enter a magic word if you want to exit program!open\n",
      "enter a magic word if you want to exit program!open ssusame\n",
      "enter a magic word if you want to exit program!susame\n",
      "enter a magic word if you want to exit program!abracadabra\n",
      "You have successfully exited the loop!\n"
     ]
    }
   ],
   "source": [
    "print(\"\"\"\n",
    "The break statement is used to exit/terminate the loop.\n",
    "Design a program that uses a while loop and repeatedly prompts \n",
    "the user to enter a word unless the user enters \"abracadabra\" as the secret output word;\n",
    "in this case \"You have successfully exited the loop.\"\n",
    "The message should be printed on the screen and the loop should be terminated.\n",
    "\"\"\")\n",
    "\n",
    "while True:\n",
    "    magic_word = input(\"enter a magic word if you want to exit program!\") \n",
    "    if magic_word == \"abracadabra\":\n",
    "        print(\"You have successfully exited the loop!\")\n",
    "        break\n"
   ]
  },
  {
   "cell_type": "code",
   "execution_count": null,
   "id": "48f8bf5a",
   "metadata": {},
   "outputs": [],
   "source": []
  },
  {
   "cell_type": "code",
   "execution_count": null,
   "id": "3c0d9f5b",
   "metadata": {},
   "outputs": [],
   "source": []
  }
 ],
 "metadata": {
  "kernelspec": {
   "display_name": "Python 3 (ipykernel)",
   "language": "python",
   "name": "python3"
  },
  "language_info": {
   "codemirror_mode": {
    "name": "ipython",
    "version": 3
   },
   "file_extension": ".py",
   "mimetype": "text/x-python",
   "name": "python",
   "nbconvert_exporter": "python",
   "pygments_lexer": "ipython3",
   "version": "3.11.5"
  }
 },
 "nbformat": 4,
 "nbformat_minor": 5
}
