{
 "cells": [
  {
   "cell_type": "markdown",
   "id": "8457d5c1",
   "metadata": {},
   "source": [
    "# Egzersizler"
   ]
  },
  {
   "cell_type": "markdown",
   "id": "01f949fd",
   "metadata": {
    "lang": "tr"
   },
   "source": [
    "## Egzersiz - 1\n",
    "Beklenen çıktıyla eşleşecek şekilde sep ve end anahtar sözcüklerini kullanarak aşağıdaki kod satırını değiştirin. Aşağıdaki iki print() işlevini kullanın.\n",
    "\n",
    "İkinci print() çağrısında hiçbir şeyi değiştirmeyin.\n",
    "Beklenen çıktı:"
   ]
  },
  {
   "cell_type": "markdown",
   "id": "36b27a62",
   "metadata": {},
   "source": [
    "Python***Öğrenmek***Bize***Çok...Fayda Sağlayacak"
   ]
  },
  {
   "cell_type": "code",
   "execution_count": 12,
   "id": "428310a4",
   "metadata": {},
   "outputs": [
    {
     "name": "stdout",
     "output_type": "stream",
     "text": [
      "Python***Öğrenmek***Bize***Çok...Fayda Sağlayacak\n"
     ]
    }
   ],
   "source": [
    "print(\"Python\",\"Öğrenmek\",\"Bize\", \"Çok\", sep=\"***\", end=\"...\")\n",
    "print(\"Fayda\", \"Sağlayacak\")"
   ]
  },
  {
   "cell_type": "markdown",
   "id": "9264c4f8",
   "metadata": {
    "lang": "tr"
   },
   "source": [
    "## Egzersiz - 2\n",
    "\n",
    "* \\n dizisini dizelere yerleştirerek print() işlevi çağrılarının sayısını en aza indirin\n",
    "* Oku iki kat daha büyük yapın (ancak oranları koruyun)\n",
    "* Her iki oku da yan yana yerleştirerek oku çoğaltın; not: bir dize aşağıdaki hile kullanılarak çarpılabilir: \"string\" * 2, \"stringstring\" sonucunu üretecektir (bu konuda size yakında daha fazla bilgi vereceğiz)\n",
    "* Alıntılardan herhangi birini kaldırın ve Python'un yanıtına dikkatlice bakın; Python'un hatayı nerede gördüğüne dikkat edin; hatanın gerçekten var olduğu yer burası mı?\n",
    "* Aynısını bazı parantezlerle yapın;\n",
    "* Yazdırma sözcüklerinden herhangi birini yalnızca büyük/küçük harfe göre farklı olacak şekilde başka bir şeye dönüştürün (örneğin, Yazdır) - şimdi ne olacak?\n",
    "* Bazı alıntıları kesme işaretiyle değiştirin; Olan biteni dikkatle izleyin."
   ]
  },
  {
   "cell_type": "code",
   "execution_count": null,
   "id": "fc423aec",
   "metadata": {},
   "outputs": [],
   "source": [
    "print(\"    *\")\n",
    "print(\"   * *\")\n",
    "print(\"  *   *\")\n",
    "print(\" *     *\")\n",
    "print(\"***   ***\")\n",
    "print(\"  *   *\")\n",
    "print(\"  *   *\")\n",
    "print(\"  *****\")"
   ]
  },
  {
   "cell_type": "code",
   "execution_count": 30,
   "id": "8f124909",
   "metadata": {},
   "outputs": [
    {
     "name": "stdout",
     "output_type": "stream",
     "text": [
      "         \n",
      "           *\n",
      "\n",
      "          * *\n",
      "\n",
      "         *   *\n",
      "\n",
      "        *     *\n",
      "\n",
      "       ***   ***\n",
      "\n",
      "         *   *\n",
      "\n",
      "         *   *\n",
      "\n",
      "         *****\n"
     ]
    }
   ],
   "source": [
    "treex=(\"\"\"         \n",
    "           *\\n\n",
    "          * *\\n\n",
    "         *   *\\n\n",
    "        *     *\\n\n",
    "       ***   ***\\n\n",
    "         *   *\\n\n",
    "         *   *\\n\n",
    "         *****\"\"\")\n",
    "print(treex)"
   ]
  },
  {
   "cell_type": "code",
   "execution_count": 28,
   "id": "5db86a0f",
   "metadata": {},
   "outputs": [
    {
     "name": "stdout",
     "output_type": "stream",
     "text": [
      "  \n",
      " \n",
      "           *\n",
      "\n",
      "          * *\n",
      "\n",
      "         *   *\n",
      "\n",
      "        *     *\n",
      "\n",
      "       ***   ***\n",
      "\n",
      "         *   *\n",
      "\n",
      "         *   *\n",
      "\n",
      "         *****                                                  \n",
      " \n",
      "              *\n",
      "\n",
      "             * *\n",
      "\n",
      "            *   *\n",
      "\n",
      "           *     *\n",
      "\n",
      "          *       *\n",
      "\n",
      "         *         *\n",
      "\n",
      "        *           *\n",
      "\n",
      "       *             *\n",
      "\n",
      "      *               *\n",
      "\n",
      "     *****         *****\n",
      "\n",
      "         *         *\n",
      "\n",
      "         *         *\n",
      "\n",
      "         *         *\n",
      "\n",
      "         *         *\n",
      "\n",
      "         *         *\n",
      "\n",
      "         ***********\n"
     ]
    }
   ],
   "source": [
    "tree2x= (\"\"\"     \\n \n",
    "              *\\n\n",
    "             * *\\n\n",
    "            *   *\\n\n",
    "           *     *\\n\n",
    "          *       *\\n\n",
    "         *         *\\n\n",
    "        *           *\\n \n",
    "       *             *\\n\n",
    "      *               *\\n\n",
    "     *****         *****\\n\n",
    "         *         *\\n\n",
    "         *         *\\n\n",
    "         *         *\\n\n",
    "         *         *\\n\n",
    "         *         *\\n\n",
    "         ***********\"\"\")\n",
    "print(f\"\"\"{treex}                                             {tree2x}\"\"\")"
   ]
  },
  {
   "cell_type": "code",
   "execution_count": 31,
   "id": "df4a39b7",
   "metadata": {},
   "outputs": [
    {
     "name": "stdout",
     "output_type": "stream",
     "text": [
      "         \n",
      "           *\n",
      "\n",
      "          * *\n",
      "\n",
      "         *   *\n",
      "\n",
      "        *     *\n",
      "\n",
      "       ***   ***\n",
      "\n",
      "         *   *\n",
      "\n",
      "         *   *\n",
      "\n",
      "         *****         \n",
      "           *\n",
      "\n",
      "          * *\n",
      "\n",
      "         *   *\n",
      "\n",
      "        *     *\n",
      "\n",
      "       ***   ***\n",
      "\n",
      "         *   *\n",
      "\n",
      "         *   *\n",
      "\n",
      "         *****         \n",
      "           *\n",
      "\n",
      "          * *\n",
      "\n",
      "         *   *\n",
      "\n",
      "        *     *\n",
      "\n",
      "       ***   ***\n",
      "\n",
      "         *   *\n",
      "\n",
      "         *   *\n",
      "\n",
      "         *****\n"
     ]
    }
   ],
   "source": [
    "print (treex*3)"
   ]
  },
  {
   "cell_type": "code",
   "execution_count": 32,
   "id": "407e6adc",
   "metadata": {},
   "outputs": [
    {
     "ename": "SyntaxError",
     "evalue": "unexpected character after line continuation character (3614287826.py, line 2)",
     "output_type": "error",
     "traceback": [
      "\u001b[1;36m  Cell \u001b[1;32mIn[32], line 2\u001b[1;36m\u001b[0m\n\u001b[1;33m    *\\n\u001b[0m\n\u001b[1;37m      ^\u001b[0m\n\u001b[1;31mSyntaxError\u001b[0m\u001b[1;31m:\u001b[0m unexpected character after line continuation character\n"
     ]
    }
   ],
   "source": [
    "treex=(        \n",
    "           *\\n\n",
    "          * *\\n\n",
    "         *   *\\n\n",
    "        *     *\\n\n",
    "       ***   ***\\n\n",
    "         *   *\\n\n",
    "         *   *\\n\n",
    "         *****\"\"\")\n",
    "print(treex)"
   ]
  },
  {
   "cell_type": "code",
   "execution_count": 33,
   "id": "e587c607",
   "metadata": {
    "scrolled": true
   },
   "outputs": [
    {
     "ename": "NameError",
     "evalue": "name 'Print' is not defined",
     "output_type": "error",
     "traceback": [
      "\u001b[1;31m---------------------------------------------------------------------------\u001b[0m",
      "\u001b[1;31mNameError\u001b[0m                                 Traceback (most recent call last)",
      "Cell \u001b[1;32mIn[33], line 10\u001b[0m\n\u001b[0;32m      1\u001b[0m treex\u001b[38;5;241m=\u001b[39m(\u001b[38;5;124m\"\"\"\u001b[39m\u001b[38;5;124m         \u001b[39m\n\u001b[0;32m      2\u001b[0m \u001b[38;5;124m           *\u001b[39m\u001b[38;5;130;01m\\n\u001b[39;00m\n\u001b[0;32m      3\u001b[0m \u001b[38;5;124m          * *\u001b[39m\u001b[38;5;130;01m\\n\u001b[39;00m\n\u001b[1;32m   (...)\u001b[0m\n\u001b[0;32m      8\u001b[0m \u001b[38;5;124m         *   *\u001b[39m\u001b[38;5;130;01m\\n\u001b[39;00m\n\u001b[0;32m      9\u001b[0m \u001b[38;5;124m         *****\u001b[39m\u001b[38;5;124m\"\"\"\u001b[39m)\n\u001b[1;32m---> 10\u001b[0m Print(treex)\n",
      "\u001b[1;31mNameError\u001b[0m: name 'Print' is not defined"
     ]
    }
   ],
   "source": [
    "treex=(\"\"\"         \n",
    "           *\\n\n",
    "          * *\\n\n",
    "         *   *\\n\n",
    "        *     *\\n\n",
    "       ***   ***\\n\n",
    "         *   *\\n\n",
    "         *   *\\n\n",
    "         *****\"\"\")\n",
    "Print(treex)"
   ]
  },
  {
   "cell_type": "code",
   "execution_count": 35,
   "id": "74b0b48d",
   "metadata": {},
   "outputs": [
    {
     "ename": "SyntaxError",
     "evalue": "unterminated string literal (detected at line 1) (4266646812.py, line 1)",
     "output_type": "error",
     "traceback": [
      "\u001b[1;36m  Cell \u001b[1;32mIn[35], line 1\u001b[1;36m\u001b[0m\n\u001b[1;33m    treex=(\"\"'\u001b[0m\n\u001b[1;37m             ^\u001b[0m\n\u001b[1;31mSyntaxError\u001b[0m\u001b[1;31m:\u001b[0m unterminated string literal (detected at line 1)\n"
     ]
    }
   ],
   "source": [
    "treex=(\"\"'         \n",
    "           *\\n\n",
    "          * *\\n\n",
    "         *   *\\n\n",
    "        *     *\\n\n",
    "       ***   ***\\n\n",
    "         *   *\\n\n",
    "         *   *\\n\n",
    "         *****\"'')\n",
    "print(treex)"
   ]
  },
  {
   "cell_type": "markdown",
   "id": "942d9ee2",
   "metadata": {},
   "source": [
    "## Egzersiz - 3\n",
    "\n",
    "Göreviniz dört temel aritmetik işlemin sonuçlarını değerlendirmek için kodu tamamlamaktır.\n",
    "\n",
    "Sonuçların konsola yazdırılması gerekir.\n",
    "\n",
    "Sıfıra bölmek isteyen bir kullanıcıdan kodu koruyamayabilirsiniz. Sorun değil, şimdilik endişelenmeyin.\n",
    "\n",
    "Kodunuzu test edin; beklediğiniz sonuçları üretiyor mu?"
   ]
  },
  {
   "cell_type": "code",
   "execution_count": 36,
   "id": "f40fa594",
   "metadata": {},
   "outputs": [
    {
     "name": "stdout",
     "output_type": "stream",
     "text": [
      "please enter a :6\n",
      "please enter b :5\n",
      "addition operation : 11.0\n",
      "subtraction operation : 1.0\n",
      "multiplication operation : 30.0\n",
      "division operation :  1.2\n",
      "\n",
      "That's all, folks!\n"
     ]
    }
   ],
   "source": [
    "# input a float value for variable a here\n",
    "a=float(input(\"please enter a :\"))\n",
    "# input a float value for variable b here\n",
    "b=float(input(\"please enter b :\"))\n",
    "\n",
    "# output the result of addition here\n",
    "print(\"addition operation :\",a + b)\n",
    "# output the result of subtraction here\n",
    "print(\"subtraction operation :\",a - b)\n",
    "# output the result of multiplication here\n",
    "print(\"multiplication operation :\",a * b)\n",
    "# output the result of division here\n",
    "print(\"division operation : \" ,a / b)\n",
    "print(\"\\nThat's all, folks!\")"
   ]
  },
  {
   "attachments": {
    "image.png": {
     "image/png": "[encoded data removed]"
    }
   },
   "cell_type": "markdown",
   "id": "ef667a4c",
   "metadata": {},
   "source": [
    "## Egzersiz - 4\n",
    "\n",
    "Göreviniz aşağıdaki ifadeyi değerlendirmek için kodu tamamlamaktır:\n",
    "\n",
    "![image.png](attachment:image.png)\n",
    "\n",
    "\n",
    "Sonuç y'ye atanmalıdır. Dikkatli olun; operatörleri izleyin ve önceliklerini aklınızda bulundurun. İhtiyacınız olduğu kadar parantez kullanmaktan çekinmeyin.\n",
    "\n",
    "İfadeyi kısaltmak için ek değişkenler kullanabilirsiniz (ancak bu gerekli değildir). Kodunuzu dikkatlice test edin."
   ]
  },
  {
   "cell_type": "code",
   "execution_count": 37,
   "id": "ca286023",
   "metadata": {},
   "outputs": [
    {
     "name": "stdout",
     "output_type": "stream",
     "text": [
      "x değerini giriniz: 5\n",
      "y = 0.19258202567760344\n"
     ]
    }
   ],
   "source": [
    "x = float(input(\"x değerini giriniz: \"))\n",
    "\n",
    "# Write your code here.\n",
    "\n",
    "y = 1 / ( x + 1 / ( x + 1 / ( x + 1 / ( x) ) ) )\n",
    "\n",
    "print(\"y =\", y)\n"
   ]
  },
  {
   "cell_type": "markdown",
   "id": "3782ff75",
   "metadata": {},
   "source": [
    "## Egzersiz - 5\n",
    "\n",
    "Göreviniz, dakika sayısı olarak verilen (isteğe bağlı olarak büyük olabilir) bir sürenin bitiş zamanını değerlendirebilecek basit bir kod hazırlamaktır. Başlangıç zamanı saat (0..23) ve dakika (0..59) çifti olarak verilir. Sonucun konsola yazdırılması gerekir.\n",
    "\n",
    "Örneğin bir etkinlik 12:17'de başlayıp 59 dakika sürüyorsa 13:16'da sona erecektir.\n",
    "\n",
    "Kodunuzdaki herhangi bir kusur hakkında endişelenmeyin - geçersiz bir zamanı kabul etmesi sorun değil - en önemli şey, kodun geçerli giriş verileri için geçerli sonuçlar üretmesidir.\n",
    "\n",
    "Kodunuzu dikkatlice test edin. \n",
    "\n",
    "İpucu: % operatörünü kullanabilirsiniz."
   ]
  },
  {
   "cell_type": "code",
   "execution_count": 38,
   "id": "30df7838",
   "metadata": {},
   "outputs": [
    {
     "name": "stdout",
     "output_type": "stream",
     "text": [
      "Başlangıç zamanı (saat): 12\n",
      "Başlangıç zamanı (dakika): 25\n",
      "Etkinlik süresi (dakika): 40\n",
      "starting time >>25 : 12 and working time : 40\n",
      " finish time >> 65 : 12 \n"
     ]
    }
   ],
   "source": [
    "hour = int(input(\"Başlangıç zamanı (saat) : \"))\n",
    "mins = int(input(\"Başlangıç zamanı (dakika) : \"))\n",
    "dura = int(input(\"Etkinlik süresi (dakika) : \"))\n",
    "print (f\"\"\"starting time >>{mins} : {hour} and working time : {dura}\"\"\")\n",
    "hour = hour + dura // 60\n",
    "mins = mins ++ dura % 60\n",
    "print (f\"\"\" finish time >> {mins} : {hour} \"\"\")\n",
    "\n",
    "# Write your code here."
   ]
  },
  {
   "cell_type": "code",
   "execution_count": 3,
   "id": "a1a5a6cf",
   "metadata": {},
   "outputs": [
    {
     "data": {
      "text/plain": [
       "1"
      ]
     },
     "execution_count": 3,
     "metadata": {},
     "output_type": "execute_result"
    }
   ],
   "source": [
    "\n",
    "\n",
    "x = 11\n",
    "y = 4\n",
    "x = x % y\n",
    "x = x % y\n",
    "y = y % x\n",
    "y"
   ]
  },
  {
   "cell_type": "code",
   "execution_count": 4,
   "id": "c711f12b",
   "metadata": {},
   "outputs": [
    {
     "data": {
      "text/plain": [
       "0"
      ]
     },
     "execution_count": 4,
     "metadata": {},
     "output_type": "execute_result"
    }
   ],
   "source": [
    "2 // 4"
   ]
  }
 ],
 "metadata": {
  "kernelspec": {
   "display_name": "Python 3 (ipykernel)",
   "language": "python",
   "name": "python3"
  },
  "language_info": {
   "codemirror_mode": {
    "name": "ipython",
    "version": 3
   },
   "file_extension": ".py",
   "mimetype": "text/x-python",
   "name": "python",
   "nbconvert_exporter": "python",
   "pygments_lexer": "ipython3",
   "version": "3.11.5"
  },
  "nbTranslate": {
   "displayLangs": [
    "tr",
    "en"
   ],
   "hotkey": "alt-t",
   "langInMainMenu": true,
   "sourceLang": "tr",
   "targetLang": "en",
   "useGoogleTranslate": true
  }
 },
 "nbformat": 4,
 "nbformat_minor": 5
}
