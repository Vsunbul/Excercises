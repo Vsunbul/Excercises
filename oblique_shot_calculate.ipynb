{
 "cells": [
  {
   "cell_type": "code",
   "execution_count": 12,
   "id": "8bc179fd",
   "metadata": {},
   "outputs": [
    {
     "name": "stdout",
     "output_type": "stream",
     "text": [
      " please enter  initial velocity : 50\n",
      " please enter angle of oblique : 53\n",
      " flying time : 8, maxiumum height : 80.0, flying distance : 240\n"
     ]
    }
   ],
   "source": [
    "import math as m \n",
    "\n",
    "\n",
    "\n",
    "\n",
    "\"\"\"\n",
    " > > Oblique Shot  Problem Solutions\n",
    "\n",
    "\n",
    "Purpose : Calculations of a shot given its initial velocity and angle of oblique.\n",
    "\n",
    "--------------------------------------------------------------\n",
    "\n",
    "inputs >> initial velocity, angle of inclination.\n",
    "outputs << distance, maximum height, and flying time.\n",
    "\n",
    "--------------------------------------------------------------\n",
    "\n",
    ">> units of measurement\n",
    "\n",
    "\n",
    "initial_velocity = metre/sec \n",
    "distance = metre\n",
    "oblique_angle=degree\n",
    "gravity= metre / sec ** 2\n",
    "flying_time= sec\n",
    "\n",
    "\n",
    "\n",
    "\"\"\"\n",
    "\n",
    "gravity=10\n",
    "\n",
    "initial_velocity = float ( input (\" please enter  initial velocity : \" ))\n",
    "\n",
    "oblique_angle = float ( input (\" please enter angle of oblique : \" )) \n",
    "\n",
    "# calculating  of flying time.formula= initial_velocity_y / gravity*2\n",
    "\n",
    "flying_time = m.ceil( initial_velocity * m.sin(m.radians(oblique_angle))/10*2)\n",
    "\n",
    "# calculating of maximum height. formula = 1 / 2 * gravity * fyling_time ** 2\n",
    "\n",
    "maximum_height = 1 / 2 * gravity * m.pow(flying_time / 2 , 2)\n",
    "\n",
    "# calculating of distance. formula = initial_velocity_x * flying_time\n",
    "\n",
    "distance=m.floor( initial_velocity * m.cos(m.radians(oblique_angle) )* flying_time)\n",
    "\n",
    "print(f\"\"\" flying time : {flying_time}, maxiumum height : {maximum_height}, flying distance : {distance}\"\"\")\n"
   ]
  },
  {
   "cell_type": "code",
   "execution_count": null,
   "id": "7a701a47",
   "metadata": {},
   "outputs": [],
   "source": []
  }
 ],
 "metadata": {
  "kernelspec": {
   "display_name": "Python 3 (ipykernel)",
   "language": "python",
   "name": "python3"
  },
  "language_info": {
   "codemirror_mode": {
    "name": "ipython",
    "version": 3
   },
   "file_extension": ".py",
   "mimetype": "text/x-python",
   "name": "python",
   "nbconvert_exporter": "python",
   "pygments_lexer": "ipython3",
   "version": "3.11.5"
  }
 },
 "nbformat": 4,
 "nbformat_minor": 5
}
