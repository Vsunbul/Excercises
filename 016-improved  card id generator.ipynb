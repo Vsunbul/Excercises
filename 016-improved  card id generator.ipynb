{
 "cells": [
  {
   "cell_type": "code",
   "execution_count": 5,
   "id": "d7353011",
   "metadata": {},
   "outputs": [
    {
     "name": "stdout",
     "output_type": "stream",
     "text": [
      "The generated personal id card number:  16176413413\n"
     ]
    }
   ],
   "source": [
    "\n",
    "\n",
    "import random \n",
    "\n",
    "\n",
    "\"\"\"\n",
    "\n",
    "---------------------------------------------------------------------------------------\n",
    "Target :write code that can generate an ID card number.\n",
    "\n",
    "---------------------------------------------------------------------------------------\n",
    "- It has 11 digits.\n",
    "- Each digit contains a numerical value.\n",
    "- The first digit cannot be 0.\n",
    "- When the sum of the 2nd, 4th, 6th and 8th digits is subtracted from 7 times the sum of\n",
    "  the 1st, 3rd, 5th, 7th and 9th digits, the remainder divided by 10, that is,\n",
    "  Mod10, gives us the 10th digit.\n",
    "- The remainder obtained from the sum of the \n",
    "  1st, 2nd, 3rd, 4th, 5th, 6th, 7th, 8th, 9th and 10th digits divided by 10,\n",
    "  that is, Mod10, gives us the 11th digit.\n",
    "\n",
    "---------------------------------------------------------------------------------------\n",
    "we did it with teacher.\n",
    "\"\"\"\n",
    "\n",
    "id_number_list = []\n",
    "\n",
    "# The first digit cannot be 0.\n",
    "id_number_list.append(random.randint(1,9))\n",
    "\n",
    "# We add eight numbers to the list.\n",
    "for _ in range(8):\n",
    "    id_number_list.append(random.randint(0,9))\n",
    "\n",
    "# We're genrating 10th number    \n",
    "test_index10 = (sum(id_number_list[0:9:2]) * 7 - sum(id_number_list[1:8:2])) % 10\n",
    "\n",
    "# 10th number is adding  id_number_list.\n",
    "id_number_list.append(test_index10)\n",
    "\n",
    "# We're genrating 11th number \n",
    "test_index11 = sum(id_number_list[0:9]) % 10\n",
    "\n",
    "# 11th number is adding  id_number_list\n",
    "id_number_list.append(test_index11)\n",
    "\n",
    "id_number_str = \"\"\n",
    "\n",
    "for number in id_number_list:\n",
    "    id_number_str += str(number)\n",
    "\n",
    "    \n",
    "print(\"The generated personal id card number: \",id_number_str)\n"
   ]
  },
  {
   "cell_type": "code",
   "execution_count": null,
   "id": "b727ca08",
   "metadata": {},
   "outputs": [],
   "source": []
  }
 ],
 "metadata": {
  "kernelspec": {
   "display_name": "Python 3 (ipykernel)",
   "language": "python",
   "name": "python3"
  },
  "language_info": {
   "codemirror_mode": {
    "name": "ipython",
    "version": 3
   },
   "file_extension": ".py",
   "mimetype": "text/x-python",
   "name": "python",
   "nbconvert_exporter": "python",
   "pygments_lexer": "ipython3",
   "version": "3.11.5"
  },
  "nbTranslate": {
   "displayLangs": [
    "en",
    "tr"
   ],
   "hotkey": "alt-t",
   "langInMainMenu": true,
   "sourceLang": "tr",
   "targetLang": "en",
   "useGoogleTranslate": true
  }
 },
 "nbformat": 4,
 "nbformat_minor": 5
}
