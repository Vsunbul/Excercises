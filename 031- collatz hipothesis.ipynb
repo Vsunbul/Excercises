{
 "cells": [
  {
   "cell_type": "code",
   "execution_count": 43,
   "id": "7155daad",
   "metadata": {},
   "outputs": [
    {
     "name": "stdout",
     "output_type": "stream",
     "text": [
      "enter a number: 5\n",
      "loop number:  1 collatz number 16\n",
      "loop number:  2 collatz number 8.0\n",
      "loop number:  3 collatz number 4.0\n",
      "loop number:  4 collatz number 2.0\n",
      "loop number:  5 collatz number 1.0\n",
      "Total count of step : 5\n"
     ]
    }
   ],
   "source": [
    "\n",
    "\n",
    "print(\"\"\"\n",
    "\n",
    "In 1937, a German mathematician named Lothar Collatz\n",
    "formulated an intriguing hypothesis (still unproven) that can be described as follows:\n",
    "\n",
    "-Take any non-negative and non-zero integer and call it c0;\n",
    "-If even, evaluate new c0 as c0 ÷ 2;\n",
    "-Otherwise, if odd, evaluate a new c0 as 3 × c0 + 1; if c0 ≠ 1, move on to point 2.\n",
    "\n",
    "\"\"\")\n",
    "\n",
    "loop_step_count = 0\n",
    "collatz_num = input(\"enter a number: \")\n",
    "collatz_num = int(collatz_num)\n",
    "    \n",
    "if collatz_num < 1:        \n",
    "    print(\"Please enter a value bigger than one:\")\n",
    "        \n",
    "while collatz_num != 1:\n",
    " \n",
    "    loop_step_count += 1\n",
    "    \n",
    "    if collatz_num % 2 == 0:\n",
    "        collatz_num /= 2\n",
    "        print(\"loop number: \", loop_step_count, \"collatz number\", collatz_num)\n",
    "             \n",
    "    elif  collatz_num % 2 == 1:\n",
    "        collatz_num = 3 * collatz_num + 1\n",
    "        print(\"loop number: \", loop_step_count, \"collatz number\", collatz_num)\n",
    "    \n",
    "    elif collatz_num / 2 == 1:\n",
    "       print(\"loop number: \", loop_step_count, \"collatz number\", collatz_num)\n",
    "        \n",
    "            \n",
    "print(\"Total count of step :\",loop_step_count)\n",
    "   \n",
    "    \n",
    "          \n",
    "    \n",
    "    \n",
    "\n"
   ]
  },
  {
   "cell_type": "code",
   "execution_count": null,
   "id": "4bab69b4",
   "metadata": {},
   "outputs": [],
   "source": []
  }
 ],
 "metadata": {
  "kernelspec": {
   "display_name": "Python 3 (ipykernel)",
   "language": "python",
   "name": "python3"
  },
  "language_info": {
   "codemirror_mode": {
    "name": "ipython",
    "version": 3
   },
   "file_extension": ".py",
   "mimetype": "text/x-python",
   "name": "python",
   "nbconvert_exporter": "python",
   "pygments_lexer": "ipython3",
   "version": "3.11.5"
  }
 },
 "nbformat": 4,
 "nbformat_minor": 5
}
