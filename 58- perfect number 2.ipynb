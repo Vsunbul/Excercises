{
 "cells": [
  {
   "cell_type": "code",
   "execution_count": 8,
   "id": "77d7e054",
   "metadata": {},
   "outputs": [
    {
     "name": "stdout",
     "output_type": "stream",
     "text": [
      "[6, 28, 496, 8128]\n"
     ]
    }
   ],
   "source": [
    "\n",
    "\n",
    "perfect_numbers = []\n",
    "number = 1\n",
    "while number < 10001:\n",
    "    number += 1\n",
    "    perfect = 0\n",
    "    i = 1\n",
    "    while i < number:\n",
    "        \n",
    "        if (number % i == 0):\n",
    "            perfect += i\n",
    "        i += 1\n",
    "    if (perfect == number):\n",
    "        perfect_numbers.append(number)\n",
    "         \n",
    "            \n",
    "print (perfect_numbers)\n",
    "    "
   ]
  },
  {
   "cell_type": "code",
   "execution_count": 14,
   "id": "dadf1a02",
   "metadata": {},
   "outputs": [
    {
     "name": "stdout",
     "output_type": "stream",
     "text": [
      "[6, 28, 496, 8128] number is perfect!\n"
     ]
    }
   ],
   "source": [
    "perfect_number = 3\n",
    "divide_list = []\n",
    "perfect_number_list = []\n",
    "\n",
    "\n",
    "while perfect_number < 10001:\n",
    "    number = 0  \n",
    "\n",
    "    for i in range(1,perfect_number):\n",
    "        if perfect_number % i == 0:         \n",
    "            number +=i\n",
    "        \n",
    "           \n",
    "            \n",
    "    if  number == perfect_number:\n",
    "        perfect_number_list.append(number)\n",
    "            \n",
    "    perfect_number += 1  \n",
    "\n",
    "    \n",
    "print(f\"{perfect_number_list} number is perfect!\" )\n",
    "    "
   ]
  },
  {
   "cell_type": "code",
   "execution_count": null,
   "id": "b236bfea",
   "metadata": {},
   "outputs": [],
   "source": []
  }
 ],
 "metadata": {
  "kernelspec": {
   "display_name": "Python 3 (ipykernel)",
   "language": "python",
   "name": "python3"
  },
  "language_info": {
   "codemirror_mode": {
    "name": "ipython",
    "version": 3
   },
   "file_extension": ".py",
   "mimetype": "text/x-python",
   "name": "python",
   "nbconvert_exporter": "python",
   "pygments_lexer": "ipython3",
   "version": "3.11.5"
  }
 },
 "nbformat": 4,
 "nbformat_minor": 5
}
