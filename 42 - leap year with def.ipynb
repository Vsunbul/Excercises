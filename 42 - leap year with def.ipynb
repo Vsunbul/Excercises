{
 "cells": [
  {
   "cell_type": "code",
   "execution_count": 21,
   "id": "05e84b6e",
   "metadata": {},
   "outputs": [
    {
     "name": "stdout",
     "output_type": "stream",
     "text": [
      "------------------------------------\n",
      "enter year for check the leap year :1555\n",
      "year is not leap year\n"
     ]
    }
   ],
   "source": [
    "def leap_year(year:int)-> str:\n",
    "    \n",
    "   \"\"\"\n",
    "   This function checks if a year is a leap year.\n",
    "   input: year -> int\n",
    "   output: print() -> str   \n",
    "   \"\"\" \n",
    "   if year % 100 == 0:\n",
    "        if year % 400 == 0:\n",
    "            print(\"year is leap year\")\n",
    "        \n",
    "        else:\n",
    "            print(\"year is not leap year\")\n",
    "    \n",
    "   elif year % 4 == 0 :\n",
    "        print(\"year is leap year\")\n",
    "        \n",
    "   else:\n",
    "        print(\"year is not leap year\")\n",
    "        \n",
    "print(\"------------------------------------\")       \n",
    "year = input(\"enter year for check the leap year :\")\n",
    "\n",
    "if year.isdigit() != True or len(year) != 4 :\n",
    "    print(\"please enter valid year\")\n",
    "    \n",
    "year = int(year)\n",
    "\n",
    "if year < 1500 :\n",
    "    print(\"please enter year bigger than 1500\")\n",
    "    \n",
    "else: \n",
    "    leap_year(year)\n",
    "    "
   ]
  },
  {
   "cell_type": "code",
   "execution_count": null,
   "id": "c413df50",
   "metadata": {},
   "outputs": [],
   "source": []
  }
 ],
 "metadata": {
  "kernelspec": {
   "display_name": "Python 3 (ipykernel)",
   "language": "python",
   "name": "python3"
  },
  "language_info": {
   "codemirror_mode": {
    "name": "ipython",
    "version": 3
   },
   "file_extension": ".py",
   "mimetype": "text/x-python",
   "name": "python",
   "nbconvert_exporter": "python",
   "pygments_lexer": "ipython3",
   "version": "3.11.5"
  }
 },
 "nbformat": 4,
 "nbformat_minor": 5
}
