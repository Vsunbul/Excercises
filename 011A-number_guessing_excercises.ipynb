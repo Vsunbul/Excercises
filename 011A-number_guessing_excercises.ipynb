{
 "cells": [
  {
   "cell_type": "code",
   "execution_count": 3,
   "id": "1ad38852",
   "metadata": {},
   "outputs": [
    {
     "name": "stdout",
     "output_type": "stream",
     "text": [
      "determine to number range :55\n",
      "11\n",
      "make a guess: 20\n",
      "please decrease your numbers\n",
      "make a guess: 19\n",
      "please decrease your numbers\n",
      "make a guess: 18\n",
      "please decrease your numbers\n",
      "make a guess: 11\n",
      "Your guess is true!\n",
      " your number of guess:  4\n"
     ]
    }
   ],
   "source": [
    "import random\n",
    "\n",
    "\"\"\"\n",
    "Purpose: To find a number randomly predicted by the program.\n",
    "\n",
    "\"\"\"\n",
    "\n",
    "# random.randrange(start,stop)\n",
    "\n",
    "top_of_range = input(\"determine to number range :\")\n",
    "\n",
    "guess = 0\n",
    "\n",
    "#Python isdigit() function returns a Boolean value TRUE if all the values\n",
    "#in the input string are digits; else it returns FALSE.\n",
    "\n",
    "if top_of_range.isdigit(): \n",
    "    top_of_range = int(top_of_range)\n",
    "    \n",
    "    if  top_of_range <= 0:\n",
    "        print(\"please  enter number larger than 0 next time\")\n",
    "        quit()\n",
    "        \n",
    "else:\n",
    "    print(\"please  enter number larger than 0 next time\")\n",
    "    quit()\n",
    "\n",
    "random_number=random.randint(0, top_of_range)\n",
    "print(random_number)\n",
    "\n",
    "\n",
    "while True:\n",
    "    guess += 1\n",
    "    user_guess = input(\"make a guess: \")\n",
    "    \n",
    "    if user_guess.isdigit(): \n",
    "        user_guess = int(user_guess)\n",
    "        \n",
    "    else:\n",
    "        print(\"please  enter number larger than 0 next time\")\n",
    "        continue\n",
    "\n",
    "        \n",
    "    if user_guess<random_number:\n",
    "        print(\"please increase your numbers\")\n",
    "      \n",
    "    \n",
    "    elif user_guess>random_number:\n",
    "        print(\"please decrease your numbers\")\n",
    "        \n",
    "    elif user_guess == random_number:\n",
    "        print(\"Your guess is true!\")\n",
    "        break\n",
    "   \n",
    "    \n",
    "    else: \n",
    "        print(\" Your gues is not true!!\")\n",
    "print(\" your number of guess: \",guess)"
   ]
  },
  {
   "cell_type": "code",
   "execution_count": null,
   "id": "e24301ef",
   "metadata": {},
   "outputs": [],
   "source": []
  },
  {
   "cell_type": "code",
   "execution_count": null,
   "id": "12628a14",
   "metadata": {},
   "outputs": [],
   "source": []
  }
 ],
 "metadata": {
  "kernelspec": {
   "display_name": "Python 3 (ipykernel)",
   "language": "python",
   "name": "python3"
  },
  "language_info": {
   "codemirror_mode": {
    "name": "ipython",
    "version": 3
   },
   "file_extension": ".py",
   "mimetype": "text/x-python",
   "name": "python",
   "nbconvert_exporter": "python",
   "pygments_lexer": "ipython3",
   "version": "3.11.5"
  }
 },
 "nbformat": 4,
 "nbformat_minor": 5
}
