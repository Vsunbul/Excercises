{
 "cells": [
  {
   "cell_type": "code",
   "execution_count": 1,
   "id": "18439b01",
   "metadata": {},
   "outputs": [
    {
     "name": "stdout",
     "output_type": "stream",
     "text": [
      "Collecting playsound\n",
      "  Downloading playsound-1.3.0.tar.gz (7.7 kB)\n",
      "  Preparing metadata (setup.py): started\n",
      "  Preparing metadata (setup.py): finished with status 'done'\n",
      "Building wheels for collected packages: playsound\n",
      "  Building wheel for playsound (setup.py): started\n",
      "  Building wheel for playsound (setup.py): finished with status 'done'\n",
      "  Created wheel for playsound: filename=playsound-1.3.0-py3-none-any.whl size=7046 sha256=20d43d2cb388c01158478db7dc3945be37c7f1f807d5ec6f5382d1edf83b35d8\n",
      "  Stored in directory: c:\\users\\hefes\\appdata\\local\\pip\\cache\\wheels\\50\\98\\42\\62753a9e1fb97579a0ce2f84f7db4c21c09d03bb2091e6cef4\n",
      "Successfully built playsound\n",
      "Installing collected packages: playsound\n",
      "Successfully installed playsound-1.3.0\n"
     ]
    }
   ],
   "source": [
    "#!pip install playsound\n"
   ]
  },
  {
   "cell_type": "code",
   "execution_count": null,
   "id": "973068e4",
   "metadata": {},
   "outputs": [
    {
     "name": "stdout",
     "output_type": "stream",
     "text": [
      "how many minutes wait0\n",
      "how many seconds wait20\n",
      "\u001b[2J\n",
      "\u001b[H 00:19\n",
      "\u001b[H 00:18\n",
      "\u001b[H 00:17\n",
      "\u001b[H 00:16\n",
      "\u001b[H 00:15\n",
      "\u001b[H 00:14\n",
      "\u001b[H 00:13\n",
      "\u001b[H 00:12\n",
      "\u001b[H 00:11\n",
      "\u001b[H 00:10\n",
      "\u001b[H 00:09\n",
      "\u001b[H 00:08\n",
      "\u001b[H 00:07\n",
      "\u001b[H 00:06\n",
      "\u001b[H 00:05\n",
      "\u001b[H 00:04\n",
      "\u001b[H 00:03\n",
      "\u001b[H 00:02\n",
      "\u001b[H 00:01\n",
      "\u001b[H 00:00\n"
     ]
    }
   ],
   "source": [
    "\n",
    "print(\"\"\"\n",
    "\n",
    "Make an alarm clock with a countdown\n",
    "\n",
    "\"\"\")\n",
    "#import for the alarm sound\n",
    "from playsound import playsound\n",
    "import time\n",
    "# clears the screen from the cursor to the end of the screen.\n",
    "CLEAR = \"\\033[2J\"\n",
    "CLEAR_AND_RETURN  = \"\\033[H\"\n",
    "\n",
    "\n",
    "def alarm(seconds):\n",
    "    time_elapsed = 0\n",
    "    \n",
    "    print(CLEAR)\n",
    "    while time_elapsed < seconds:\n",
    "        \n",
    "        #to indicate how much time delay there is\n",
    "        time.sleep(1)\n",
    "        time_elapsed += 1\n",
    "        \n",
    "        #minutes and second calcilating\n",
    "        time_left = seconds - time_elapsed\n",
    "        minutes_left = time_left // 60\n",
    "        seconds_left = time_left % 60\n",
    "        \n",
    "        \n",
    "        print(f\"{CLEAR_AND_RETURN} alarm will sounds in-> {minutes_left:02d}:{seconds_left:02d}\")\n",
    "        \n",
    "    playsound(\"alarm.mp3\")\n",
    "#asking the user to set an alarm time\n",
    "minutes = int(input(\"how many minutes wait\"))\n",
    "seconds = int(input(\"how many seconds wait\"))\n",
    "\n",
    "total_seconds = minutes * 60 + seconds\n",
    "alarm(total_seconds)"
   ]
  },
  {
   "cell_type": "code",
   "execution_count": null,
   "id": "bd0eaf2c",
   "metadata": {},
   "outputs": [],
   "source": []
  }
 ],
 "metadata": {
  "kernelspec": {
   "display_name": "Python 3 (ipykernel)",
   "language": "python",
   "name": "python3"
  },
  "language_info": {
   "codemirror_mode": {
    "name": "ipython",
    "version": 3
   },
   "file_extension": ".py",
   "mimetype": "text/x-python",
   "name": "python",
   "nbconvert_exporter": "python",
   "pygments_lexer": "ipython3",
   "version": "3.11.5"
  }
 },
 "nbformat": 4,
 "nbformat_minor": 5
}
