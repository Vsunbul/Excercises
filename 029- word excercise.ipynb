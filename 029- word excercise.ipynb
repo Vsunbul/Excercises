{
 "cells": [
  {
   "cell_type": "code",
   "execution_count": 15,
   "id": "77aab61a",
   "metadata": {},
   "outputs": [
    {
     "name": "stdout",
     "output_type": "stream",
     "text": [
      "\n",
      "-------------------------------------------------------------------------\n",
      "\n",
      "- Ask the user to enter a word;\n",
      "- To convert the word entered by the user to uppercase,\n",
      "use the function user_word = user_word.upper();\n",
      "- If the word contains vowels A, E, I, O, U, \n",
      "remove these letters from the word.\n",
      "- Print the remaining letters on the screen, each on a separate line.\n",
      "\n",
      "\n",
      "-------------------------------------------------------------------------\n",
      "\n",
      "Please enter a word!vahit\n",
      "T\n",
      "V\n",
      "H\n"
     ]
    }
   ],
   "source": [
    "\n",
    "print(\"\"\"\n",
    "-------------------------------------------------------------------------\n",
    "\n",
    "- Ask the user to enter a word;\n",
    "- To convert the word entered by the user to uppercase,\n",
    "use the function user_word = user_word.upper();\n",
    "- If the word contains vowels A, E, I, O, U, \n",
    "remove these letters from the word.\n",
    "- Print the remaining letters on the screen, each on a separate line.\n",
    "\n",
    "\n",
    "-------------------------------------------------------------------------\n",
    "\"\"\")\n",
    "\n",
    "\n",
    "district_list = []\n",
    "word_list = [\"A\", \"E\", \"I\", \"O\", \"U\"]\n",
    "\n",
    "while True:\n",
    "    \n",
    "    user_word = input(\"Please enter a word!\")\n",
    "    user_word = user_word.upper()\n",
    "    \n",
    "    if user_word.isdigit() == True:\n",
    "        print(\"Please enter string type a word!\")\n",
    "        continue\n",
    "    \n",
    "    \n",
    "    for letter in word_list:\n",
    "        for i in user_word:\n",
    "            if i == letter:\n",
    "                district_list.append(i)\n",
    "                \n",
    "            else:\n",
    "                continue\n",
    "    break \n",
    "\n",
    "if len(district_list) == 0:\n",
    "    print(\"There is no intersection!\")\n",
    "else:\n",
    "    #Set transformation is done\n",
    "    user_set = set(user_word)\n",
    "    district_set = set(district_list)\n",
    "    #A for loop is established with the difference operation between sets.\n",
    "    for word in user_set.difference(district_set):\n",
    "        print(word, end=\"\\n\")\n"
   ]
  },
  {
   "cell_type": "code",
   "execution_count": null,
   "id": "b125588a",
   "metadata": {},
   "outputs": [],
   "source": []
  }
 ],
 "metadata": {
  "kernelspec": {
   "display_name": "Python 3 (ipykernel)",
   "language": "python",
   "name": "python3"
  },
  "language_info": {
   "codemirror_mode": {
    "name": "ipython",
    "version": 3
   },
   "file_extension": ".py",
   "mimetype": "text/x-python",
   "name": "python",
   "nbconvert_exporter": "python",
   "pygments_lexer": "ipython3",
   "version": "3.11.5"
  }
 },
 "nbformat": 4,
 "nbformat_minor": 5
}
